{
 "cells": [
  {
   "cell_type": "code",
   "execution_count": 2,
   "metadata": {},
   "outputs": [],
   "source": [
    "import pandas as pd\n",
    "import numpy as np\n",
    "import matplotlib.pyplot as plt\n",
    "from pandas import DataFrame\n",
    "import random as rd"
   ]
  },
  {
   "cell_type": "code",
   "execution_count": 532,
   "metadata": {},
   "outputs": [],
   "source": [
    "data_table = pd.read_csv('teste.csv', names =['sepal_length', 'sepal_width', 'petal_length', 'petal_width', 'flower'])"
   ]
  },
  {
   "cell_type": "code",
   "execution_count": 533,
   "metadata": {},
   "outputs": [],
   "source": [
    "matrix_x = np.array(data_table[['sepal_length', 'sepal_width', 'petal_length', 'petal_width']])\n",
    "vector_y = np.array(data_table['flower'])"
   ]
  },
  {
   "cell_type": "code",
   "execution_count": 545,
   "metadata": {},
   "outputs": [],
   "source": [
    "def gaussian_discriminant_analysis(matrix_x, vector_y):\n",
    "    \n",
    "    classes, num_occurrences = np.unique(vector_y, return_counts=True)\n",
    "    \n",
    "    odds =  num_occurrences / len(vector_y)\n",
    "    \n",
    "    means = np.ones((len(classes), matrix_x.shape[1]) , dtype=float)\n",
    "    \n",
    "    covariance = np.ones((len(classes), matrix_x.shape[1], matrix_x.shape[1]), dtype=float)\n",
    "        \n",
    "    for k in range(len(classes)):\n",
    "        \n",
    "        class_element = matrix_x[vector_y==k]\n",
    "        \n",
    "        _sum = np.zeros(matrix_x.shape[1])\n",
    "        \n",
    "        for i in range (class_element.shape[0]):\n",
    "            _sum += class_element[i]          \n",
    "        \n",
    "        means[k] = (_sum / num_occurrences[k])\n",
    "        \n",
    "        sum_cov = np.ones((matrix_x.shape[1], matrix_x.shape[1]), dtype=float)\n",
    "        \n",
    "        for i in range (class_element.shape[0]):    \n",
    "            sum_cov += np.outer((class_element[i] - means[k]),(class_element[i] - means[k]))\n",
    "        covariance[k] = sum_cov /(num_occurrences[k] -1)         \n",
    "\n",
    "    return means, covariance, odds"
   ]
  },
  {
   "cell_type": "code",
   "execution_count": 546,
   "metadata": {},
   "outputs": [],
   "source": [
    "means, covariance, odds = gaussian_discriminant_analysis(matrix_x, vector_y)"
   ]
  },
  {
   "cell_type": "code",
   "execution_count": 536,
   "metadata": {},
   "outputs": [],
   "source": [
    "def predict(x, means, covariance, odds):\n",
    "    \n",
    "    num_classes = len(odds)\n",
    "    \n",
    "    odds_class = np.zeros(num_classes)\n",
    "    \n",
    "    for k in range(num_classes):\n",
    "        \n",
    "        determinante = np.linalg.det(covariance[k])\n",
    "                \n",
    "        part1 = np.log2(determinante)\n",
    "        \n",
    "        part2 = (np.transpose(x - means[k]).dot(np.linalg.inv(covariance[k]))).dot(x - means[k])\n",
    "        \n",
    "        prediction = np.log2(odds[k]) -1/2 * part1 -1/2 * part2 \n",
    "        \n",
    "        odds_class[k] = prediction\n",
    "        \n",
    "    return odds_class"
   ]
  },
  {
   "cell_type": "code",
   "execution_count": 549,
   "metadata": {},
   "outputs": [],
   "source": [
    "size = (matrix_x.shape[0], len(odds))\n",
    "predictions = np.ones(size, dtype=float)\n",
    "\n",
    "for i in range(matrix_x.shape[0]):\n",
    "    predictions[i] = predict(matrix_x[i], means, covariance, odds)\n",
    "    for i in range(predictions.shape[0]):\n",
    "        index = np.argmax(predictions[i], axis=0)\n",
    "        for j in range(len(predictions[i])):\n",
    "            if(j == index):\n",
    "                predictions[i][index] = 1.0\n",
    "            else:\n",
    "                predictions[i][j] = 0.0"
   ]
  },
  {
   "cell_type": "code",
   "execution_count": null,
   "metadata": {},
   "outputs": [],
   "source": []
  }
 ],
 "metadata": {
  "kernelspec": {
   "display_name": "Python 3",
   "language": "python",
   "name": "python3"
  },
  "language_info": {
   "codemirror_mode": {
    "name": "ipython",
    "version": 3
   },
   "file_extension": ".py",
   "mimetype": "text/x-python",
   "name": "python",
   "nbconvert_exporter": "python",
   "pygments_lexer": "ipython3",
   "version": "3.7.1"
  }
 },
 "nbformat": 4,
 "nbformat_minor": 2
}
