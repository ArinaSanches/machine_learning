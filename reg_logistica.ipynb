{
 "cells": [
  {
   "cell_type": "code",
   "execution_count": 15,
   "metadata": {},
   "outputs": [],
   "source": [
    "import pandas as pd\n",
    "import numpy as np\n",
    "import matplotlib.pyplot as plt\n",
    "from pandas import DataFrame"
   ]
  },
  {
   "cell_type": "code",
   "execution_count": 16,
   "metadata": {},
   "outputs": [],
   "source": [
    "data_table = pd.read_csv('iris.csv', names =['sepal_length', 'sepal_width', 'petal_length', 'petal_width', 'flower'])"
   ]
  },
  {
   "cell_type": "code",
   "execution_count": 17,
   "metadata": {},
   "outputs": [],
   "source": [
    "iris_data_multiclass = pd.read_csv('iris_multiclasse.csv', names =['sepal_length', 'sepal_width', 'petal_length', 'petal_width', 'flower1','flower2','flower3'])"
   ]
  },
  {
   "cell_type": "code",
   "execution_count": 18,
   "metadata": {},
   "outputs": [],
   "source": [
    "def normalization(matrix, vector):\n",
    "    #Mean calculation\n",
    "    mVector = np.mean(vector, axis=0)\n",
    "    mMatrix = np.mean(matrix, axis=0)\n",
    "    \n",
    "    #Standard deviation\n",
    "    stdVector = np.std(vector, axis = 0)\n",
    "    stdMatrix = np.std(matrix, axis = 0)\n",
    "     \n",
    "    #Normalization of data\n",
    "    vector = (vector - mVector)/stdVector\n",
    "    matrix = (matrix - mMatrix)/stdMatrix\n",
    "    \n",
    "    return matrix, vector"
   ]
  },
  {
   "cell_type": "code",
   "execution_count": 19,
   "metadata": {},
   "outputs": [],
   "source": [
    "matrix_x = np.array(data_table[['sepal_length', 'sepal_width', 'petal_length', 'petal_width']])\n",
    "vetor_y = np.array(data_table['flower'])"
   ]
  },
  {
   "cell_type": "code",
   "execution_count": 20,
   "metadata": {},
   "outputs": [],
   "source": [
    "matrix_x, vetor_y = normalization(matrix_x, vetor_y)"
   ]
  },
  {
   "cell_type": "code",
   "execution_count": 21,
   "metadata": {},
   "outputs": [],
   "source": [
    "matrix_x = np.insert(matrix_x, 0, 1, axis =1)"
   ]
  },
  {
   "cell_type": "code",
   "execution_count": 22,
   "metadata": {},
   "outputs": [],
   "source": [
    "def sigmoide(z):\n",
    "    return 1 / (1 + np.exp(-z))"
   ]
  },
  {
   "cell_type": "code",
   "execution_count": 23,
   "metadata": {},
   "outputs": [],
   "source": [
    "def gradienteDescendente(matrix_x, vetor_y, epocas, alfa):\n",
    "    w_matrix = np.ones((matrix_x.shape[1],), dtype=float)\n",
    "    y_chapeu = matrix_x.dot(w_matrix)\n",
    "    mse = []\n",
    "    for epoca in range(epocas):\n",
    "        somatorio = 0\n",
    "        for i in range(matrix_x.shape[0]):\n",
    "            somatorio += (vetor_y[i] - sigmoide(y_chapeu[i])) * matrix_x[i]\n",
    "\n",
    "        mse.append((-1/matrix_x.shape[0]) * somatorio)\n",
    "        w_matrix = w_matrix + (alfa/matrix_x.shape[0])*somatorio\n",
    "        y_chapeu = matrix_x.dot(w_matrix)\n",
    "\n",
    "    return w_matrix, mse"
   ]
  },
  {
   "cell_type": "code",
   "execution_count": 24,
   "metadata": {},
   "outputs": [],
   "source": [
    "w_gd, mse = gradienteDescendente(matrix_x, vetor_y, 10000, 0.001)"
   ]
  },
  {
   "cell_type": "code",
   "execution_count": 25,
   "metadata": {},
   "outputs": [
    {
     "data": {
      "text/plain": [
       "array([-3.91003605,  4.57163632, -2.83945175,  6.0195785 ,  5.98391617])"
      ]
     },
     "execution_count": 25,
     "metadata": {},
     "output_type": "execute_result"
    }
   ],
   "source": [
    "w_gd"
   ]
  },
  {
   "cell_type": "code",
   "execution_count": 26,
   "metadata": {},
   "outputs": [
    {
     "data": {
      "image/png": "[encoded data removed]",
      "text/plain": [
       "<Figure size 432x288 with 1 Axes>"
      ]
     },
     "metadata": {
      "needs_background": "light"
     },
     "output_type": "display_data"
    }
   ],
   "source": [
    "plt.plot(list(range(0, len(mse))), [item[0] for item in mse])\n",
    "plt.show()"
   ]
  },
  {
   "cell_type": "code",
   "execution_count": 27,
   "metadata": {},
   "outputs": [
    {
     "name": "stdout",
     "output_type": "stream",
     "text": [
      "[0, 0, 0, 0, 0, 0, 0, 0, 0, 0, 0, 0, 0, 0, 0, 0, 0, 0, 0, 0, 0, 0, 0, 0, 0, 0, 0, 0, 0, 0, 0, 0, 0, 0, 0, 0, 0, 0, 0, 0, 0, 0, 0, 0, 0, 0, 0, 0, 0, 0, 1, 1, 1, 1, 1, 1, 1, 1, 1, 1, 1, 1, 1, 1, 1, 1, 1, 1, 1, 1, 1, 1, 1, 1, 1, 1, 1, 1, 1, 1, 1, 1, 1, 1, 1, 1, 1, 1, 1, 1, 1, 1, 1, 1, 1, 1, 1, 1, 1, 1]\n"
     ]
    }
   ],
   "source": [
    "predicoes = []\n",
    "for i in range(matrix_x.shape[0]):\n",
    "    if(sigmoide(matrix_x[i].dot(w_gd))>0.5):\n",
    "        predicoes.append(1)\n",
    "    else:\n",
    "        predicoes.append(0)\n",
    "\n",
    "print(predicoes)"
   ]
  },
  {
   "cell_type": "code",
   "execution_count": 28,
   "metadata": {},
   "outputs": [],
   "source": [
    "def gradiente_estocastico(matrix_x, vetor_y, epocas, alfa):\n",
    "    w_matrix = np.ones((matrix_x.shape[1],), dtype=float)\n",
    "    y_chapeu = matrix_x.dot(w_matrix)\n",
    "    data =np.append(matrix_x, np.split(vetor_y, matrix_x.shape[0], axis=0), axis=1)\n",
    "    mse = []\n",
    "\n",
    "    for epoca in range(epocas):\n",
    "        erro = 0\n",
    "        somatorio = 0\n",
    "        for i in range(matrix_x.shape[0]):\n",
    "            w_matrix  = w_matrix + alfa * (vetor_y[i] - sigmoide(y_chapeu[i])) * matrix_x[i]\n",
    "            somatorio += (vetor_y[i] - sigmoide(y_chapeu[i])) * matrix_x[i]\n",
    "        \n",
    "        mse.append((-1/matrix_x.shape[0]) * somatorio)        \n",
    "        data = np.random.permutation(data)\n",
    "        matrix_x = data[: ,0:matrix_x.shape[1]]\n",
    "        vetor_y = data[:,matrix_x.shape[1]]\n",
    "        \n",
    "        y_chapeu = matrix_x.dot(w_matrix)  \n",
    "    \n",
    "    return w_matrix, mse"
   ]
  },
  {
   "cell_type": "code",
   "execution_count": 29,
   "metadata": {},
   "outputs": [
    {
     "name": "stdout",
     "output_type": "stream",
     "text": [
      "[array([-1.]), array([-1.]), array([-1.]), array([-1.]), array([-1.]), array([-1.]), array([-1.]), array([-1.]), array([-1.]), array([-1.]), array([-1.]), array([-1.]), array([-1.]), array([-1.]), array([-1.]), array([-1.]), array([-1.]), array([-1.]), array([-1.]), array([-1.]), array([-1.]), array([-1.]), array([-1.]), array([-1.]), array([-1.]), array([-1.]), array([-1.]), array([-1.]), array([-1.]), array([-1.]), array([-1.]), array([-1.]), array([-1.]), array([-1.]), array([-1.]), array([-1.]), array([-1.]), array([-1.]), array([-1.]), array([-1.]), array([-1.]), array([-1.]), array([-1.]), array([-1.]), array([-1.]), array([-1.]), array([-1.]), array([-1.]), array([-1.]), array([-1.]), array([1.]), array([1.]), array([1.]), array([1.]), array([1.]), array([1.]), array([1.]), array([1.]), array([1.]), array([1.]), array([1.]), array([1.]), array([1.]), array([1.]), array([1.]), array([1.]), array([1.]), array([1.]), array([1.]), array([1.]), array([1.]), array([1.]), array([1.]), array([1.]), array([1.]), array([1.]), array([1.]), array([1.]), array([1.]), array([1.]), array([1.]), array([1.]), array([1.]), array([1.]), array([1.]), array([1.]), array([1.]), array([1.]), array([1.]), array([1.]), array([1.]), array([1.]), array([1.]), array([1.]), array([1.]), array([1.]), array([1.]), array([1.]), array([1.]), array([1.])]\n",
      "[[ 1.         -0.5810659   0.85713543 -1.01435952 -1.03824799 -1.        ]\n",
      " [ 1.         -0.89430898 -0.19845007 -1.01435952 -1.03824799 -1.        ]\n",
      " [ 1.         -1.20755205  0.22378413 -1.08374115 -1.03824799 -1.        ]\n",
      " [ 1.         -1.36417359  0.01266703 -0.94497788 -1.03824799 -1.        ]\n",
      " [ 1.         -0.73768744  1.06825253 -1.01435952 -1.03824799 -1.        ]\n",
      " [ 1.         -0.11120129  1.70160383 -0.80621461 -0.68329141 -1.        ]\n",
      " [ 1.         -1.36417359  0.64601833 -1.01435952 -0.8607697  -1.        ]\n",
      " [ 1.         -0.73768744  0.64601833 -0.94497788 -1.03824799 -1.        ]\n",
      " [ 1.         -1.67741667 -0.40956718 -1.01435952 -1.03824799 -1.        ]\n",
      " [ 1.         -0.89430898  0.01266703 -0.94497788 -1.21572628 -1.        ]\n",
      " [ 1.         -0.11120129  1.27936963 -0.94497788 -1.03824799 -1.        ]\n",
      " [ 1.         -1.05093052  0.64601833 -0.87559625 -1.03824799 -1.        ]\n",
      " [ 1.         -1.05093052 -0.19845007 -1.01435952 -1.21572628 -1.        ]\n",
      " [ 1.         -1.8340382  -0.19845007 -1.22250442 -1.21572628 -1.        ]\n",
      " [ 1.          0.51528486  1.91272093 -1.15312279 -1.03824799 -1.        ]\n",
      " [ 1.          0.35866332  2.75718933 -0.94497788 -0.68329141 -1.        ]\n",
      " [ 1.         -0.11120129  1.70160383 -1.08374115 -0.68329141 -1.        ]\n",
      " [ 1.         -0.5810659   0.85713543 -1.01435952 -0.8607697  -1.        ]\n",
      " [ 1.          0.35866332  1.49048673 -0.80621461 -0.8607697  -1.        ]\n",
      " [ 1.         -0.5810659   1.49048673 -0.94497788 -0.8607697  -1.        ]\n",
      " [ 1.         -0.11120129  0.64601833 -0.80621461 -1.03824799 -1.        ]\n",
      " [ 1.         -0.5810659   1.27936963 -0.94497788 -0.68329141 -1.        ]\n",
      " [ 1.         -1.36417359  1.06825253 -1.29188606 -1.03824799 -1.        ]\n",
      " [ 1.         -0.5810659   0.43490123 -0.80621461 -0.50581312 -1.        ]\n",
      " [ 1.         -1.05093052  0.64601833 -0.66745134 -1.03824799 -1.        ]\n",
      " [ 1.         -0.73768744 -0.19845007 -0.87559625 -1.03824799 -1.        ]\n",
      " [ 1.         -0.73768744  0.64601833 -0.87559625 -0.68329141 -1.        ]\n",
      " [ 1.         -0.42444437  0.85713543 -0.94497788 -1.03824799 -1.        ]\n",
      " [ 1.         -0.42444437  0.64601833 -1.01435952 -1.03824799 -1.        ]\n",
      " [ 1.         -1.20755205  0.22378413 -0.87559625 -1.03824799 -1.        ]\n",
      " [ 1.         -1.05093052  0.01266703 -0.87559625 -1.03824799 -1.        ]\n",
      " [ 1.         -0.11120129  0.64601833 -0.94497788 -0.68329141 -1.        ]\n",
      " [ 1.         -0.42444437  2.12383803 -0.94497788 -1.21572628 -1.        ]\n",
      " [ 1.          0.04542025  2.33495513 -1.01435952 -1.03824799 -1.        ]\n",
      " [ 1.         -0.89430898  0.01266703 -0.94497788 -1.21572628 -1.        ]\n",
      " [ 1.         -0.73768744  0.22378413 -1.15312279 -1.03824799 -1.        ]\n",
      " [ 1.          0.04542025  0.85713543 -1.08374115 -1.03824799 -1.        ]\n",
      " [ 1.         -0.89430898  0.01266703 -0.94497788 -1.21572628 -1.        ]\n",
      " [ 1.         -1.67741667 -0.19845007 -1.08374115 -1.03824799 -1.        ]\n",
      " [ 1.         -0.5810659   0.64601833 -0.94497788 -1.03824799 -1.        ]\n",
      " [ 1.         -0.73768744  0.85713543 -1.08374115 -0.8607697  -1.        ]\n",
      " [ 1.         -1.52079513 -1.67626978 -1.08374115 -0.8607697  -1.        ]\n",
      " [ 1.         -1.67741667  0.22378413 -1.08374115 -1.03824799 -1.        ]\n",
      " [ 1.         -0.73768744  0.85713543 -0.87559625 -0.32833484 -1.        ]\n",
      " [ 1.         -0.5810659   1.49048673 -0.66745134 -0.68329141 -1.        ]\n",
      " [ 1.         -1.05093052 -0.19845007 -1.01435952 -0.8607697  -1.        ]\n",
      " [ 1.         -0.5810659   1.49048673 -0.87559625 -1.03824799 -1.        ]\n",
      " [ 1.         -1.36417359  0.22378413 -1.01435952 -1.03824799 -1.        ]\n",
      " [ 1.         -0.26782283  1.27936963 -0.94497788 -1.03824799 -1.        ]\n",
      " [ 1.         -0.73768744  0.43490123 -1.01435952 -1.03824799 -1.        ]\n",
      " [ 1.          2.39474331  0.22378413  1.27523447  1.09149148  1.        ]\n",
      " [ 1.          1.45501408  0.22378413  1.1364712   1.26896977  1.        ]\n",
      " [ 1.          2.23812177  0.01266703  1.41399774  1.26896977  1.        ]\n",
      " [ 1.          0.04542025 -1.67626978  0.78956302  0.91401319  1.        ]\n",
      " [ 1.          1.61163562 -0.62068428  1.20585283  1.26896977  1.        ]\n",
      " [ 1.          0.35866332 -0.62068428  1.1364712   0.91401319  1.        ]\n",
      " [ 1.          1.29839254  0.43490123  1.27523447  1.44644806  1.        ]\n",
      " [ 1.         -0.89430898 -1.46515268  0.30389157  0.38157832  1.        ]\n",
      " [ 1.          1.76825716 -0.40956718  1.20585283  0.91401319  1.        ]\n",
      " [ 1.         -0.42444437 -0.83180138  0.72018138  1.09149148  1.        ]\n",
      " [ 1.         -0.73768744 -2.30962108  0.44265484  0.38157832  1.        ]\n",
      " [ 1.          0.6719064  -0.19845007  0.92832629  1.26896977  1.        ]\n",
      " [ 1.          0.82852793 -1.88738688  0.78956302  0.38157832  1.        ]\n",
      " [ 1.          0.98514947 -0.40956718  1.27523447  1.09149148  1.        ]\n",
      " [ 1.          0.20204178 -0.40956718  0.51203647  0.91401319  1.        ]\n",
      " [ 1.          1.92487869  0.01266703  1.06708956  1.09149148  1.        ]\n",
      " [ 1.          0.20204178 -0.19845007  1.1364712   1.26896977  1.        ]\n",
      " [ 1.          0.51528486 -0.83180138  0.85894465  0.38157832  1.        ]\n",
      " [ 1.          1.14177101 -1.88738688  1.1364712   1.26896977  1.        ]\n",
      " [ 1.          0.20204178 -1.25403558  0.72018138  0.55905661  1.        ]\n",
      " [ 1.          0.6719064   0.22378413  1.3446161   1.80140464  1.        ]\n",
      " [ 1.          0.98514947 -0.62068428  0.78956302  0.91401319  1.        ]\n",
      " [ 1.          1.29839254 -1.25403558  1.41399774  1.26896977  1.        ]\n",
      " [ 1.          0.98514947 -0.62068428  1.27523447  0.7365349   1.        ]\n",
      " [ 1.          1.45501408 -0.40956718  0.99770792  0.91401319  1.        ]\n",
      " [ 1.          1.76825716 -0.19845007  1.06708956  1.09149148  1.        ]\n",
      " [ 1.          2.08150023 -0.62068428  1.3446161   1.09149148  1.        ]\n",
      " [ 1.          1.92487869 -0.19845007  1.48337938  1.62392635  1.        ]\n",
      " [ 1.          0.82852793 -0.40956718  1.1364712   1.26896977  1.        ]\n",
      " [ 1.          0.35866332 -1.04291848  0.44265484  0.38157832  1.        ]\n",
      " [ 1.          0.04542025 -1.46515268  0.65079974  0.55905661  1.        ]\n",
      " [ 1.          0.04542025 -1.46515268  0.58141811  0.38157832  1.        ]\n",
      " [ 1.          0.51528486 -0.83180138  0.72018138  0.7365349   1.        ]\n",
      " [ 1.          0.82852793 -0.83180138  1.55276101  1.44644806  1.        ]\n",
      " [ 1.         -0.11120129 -0.19845007  1.1364712   1.26896977  1.        ]\n",
      " [ 1.          0.82852793  0.64601833  1.1364712   1.44644806  1.        ]\n",
      " [ 1.          1.92487869  0.01266703  1.27523447  1.26896977  1.        ]\n",
      " [ 1.          1.29839254 -1.67626978  1.06708956  0.91401319  1.        ]\n",
      " [ 1.          0.20204178 -0.19845007  0.85894465  0.91401319  1.        ]\n",
      " [ 1.          0.04542025 -1.25403558  0.78956302  0.91401319  1.        ]\n",
      " [ 1.          0.04542025 -1.04291848  1.06708956  0.7365349   1.        ]\n",
      " [ 1.          0.98514947 -0.19845007  1.20585283  1.09149148  1.        ]\n",
      " [ 1.          0.51528486 -1.04291848  0.78956302  0.7365349   1.        ]\n",
      " [ 1.         -0.73768744 -1.67626978  0.30389157  0.38157832  1.        ]\n",
      " [ 1.          0.20204178 -0.83180138  0.92832629  0.91401319  1.        ]\n",
      " [ 1.          0.35866332 -0.19845007  0.92832629  0.7365349   1.        ]\n",
      " [ 1.          0.35866332 -0.40956718  0.92832629  0.91401319  1.        ]\n",
      " [ 1.          1.14177101 -0.40956718  0.99770792  0.91401319  1.        ]\n",
      " [ 1.         -0.5810659  -1.25403558  0.09574666  0.55905661  1.        ]\n",
      " [ 1.          0.35866332 -0.62068428  0.85894465  0.91401319  1.        ]]\n"
     ]
    }
   ],
   "source": [
    "w_gde, mse = gradiente_estocastico(matrix_x, vetor_y, 10000, 0.001)"
   ]
  },
  {
   "cell_type": "code",
   "execution_count": 30,
   "metadata": {},
   "outputs": [
    {
     "data": {
      "text/plain": [
       "array([-498.47703627,  364.70980605, -342.06964503,  486.27425106,\n",
       "        481.44881975])"
      ]
     },
     "execution_count": 30,
     "metadata": {},
     "output_type": "execute_result"
    }
   ],
   "source": [
    "w_gde"
   ]
  },
  {
   "cell_type": "code",
   "execution_count": 31,
   "metadata": {},
   "outputs": [
    {
     "name": "stdout",
     "output_type": "stream",
     "text": [
      "[0, 0, 0, 0, 0, 0, 0, 0, 0, 0, 0, 0, 0, 0, 0, 0, 0, 0, 0, 0, 0, 0, 0, 0, 0, 0, 0, 0, 0, 0, 0, 0, 0, 0, 0, 0, 0, 0, 0, 0, 0, 0, 0, 0, 0, 0, 0, 0, 0, 0, 1, 1, 1, 1, 1, 1, 1, 1, 1, 1, 1, 1, 1, 1, 1, 1, 1, 1, 1, 1, 1, 1, 1, 1, 1, 1, 1, 1, 1, 1, 1, 1, 1, 1, 1, 1, 1, 1, 1, 1, 1, 1, 1, 1, 1, 1, 1, 1, 1, 1]\n"
     ]
    }
   ],
   "source": [
    "predicoes = []\n",
    "for i in range(matrix_x.shape[0]):\n",
    "    if(sigmoide(matrix_x[i].dot(w_gde))>0.5):\n",
    "        predicoes.append(1)\n",
    "    else:\n",
    "        predicoes.append(0)\n",
    "\n",
    "print(predicoes)"
   ]
  },
  {
   "cell_type": "code",
   "execution_count": 32,
   "metadata": {},
   "outputs": [],
   "source": [
    "matrix_x_multiclass = np.array(iris_data_multiclass[['sepal_length', 'sepal_width', 'petal_length', 'petal_width']])\n",
    "vetor_y_multiclass = np.array(iris_data_multiclass[['flower1', 'flower2', 'flower3']])"
   ]
  },
  {
   "cell_type": "code",
   "execution_count": 33,
   "metadata": {},
   "outputs": [],
   "source": [
    "matrix_x_multiclass, vetor_y_multiclass = normalization(matrix_x_multiclass, vetor_y_multiclass)"
   ]
  },
  {
   "cell_type": "code",
   "execution_count": 34,
   "metadata": {},
   "outputs": [],
   "source": [
    "matrix_x_multiclass = np.insert(matrix_x_multiclass, 0, 1, axis =1)"
   ]
  },
  {
   "cell_type": "code",
   "execution_count": 85,
   "metadata": {},
   "outputs": [],
   "source": [
    "def gradiente_descendente_multiclasse(matrix_x, vetor_y, epocas, alfa):\n",
    "    size = (vetor_y.shape[1], matrix_x.shape[1])\n",
    "    w_matrix = np.ones(size, dtype=float)\n",
    "\n",
    "    mse = []\n",
    "    for k in range(w_matrix.shape[0]):  \n",
    "        for epoca in range(epocas):\n",
    "            somatorio = 0\n",
    "            for i in range(matrix_x.shape[0]):\n",
    "                _sum = 0\n",
    "                for j in range(w_matrix.shape[0]):\n",
    "                    _sum += np.exp(w_matrix[j].dot(matrix_x[i]))\n",
    "                \n",
    "                err = np.exp(w_matrix[k].dot(matrix_x[i]))/_sum\n",
    "                somatorio += (vetor_y[i][k] - err) * matrix_x[i]\n",
    "            \n",
    "            mse.append((-1/matrix_x.shape[0]) * somatorio)\n",
    "            w_matrix[k] = w_matrix[k] + (alfa/matrix_x.shape[0])*somatorio\n",
    "\n",
    "    return w_matrix, mse"
   ]
  },
  {
   "cell_type": "code",
   "execution_count": 86,
   "metadata": {},
   "outputs": [],
   "source": [
    "w_gd_m, mse = gradiente_descendente_multiclasse(matrix_x_multiclass, vetor_y_multiclass, 10000, 0.01)"
   ]
  },
  {
   "cell_type": "code",
   "execution_count": 88,
   "metadata": {},
   "outputs": [
    {
     "data": {
      "image/png": "[encoded data removed]",
      "text/plain": [
       "<Figure size 432x288 with 1 Axes>"
      ]
     },
     "metadata": {
      "needs_background": "light"
     },
     "output_type": "display_data"
    }
   ],
   "source": [
    "plt.plot(list(range(0, len(mse))), [item[0] for item in mse])\n",
    "plt.show()"
   ]
  },
  {
   "cell_type": "code",
   "execution_count": 42,
   "metadata": {},
   "outputs": [
    {
     "name": "stdout",
     "output_type": "stream",
     "text": [
      "[[1. 0. 0.]\n",
      " [1. 0. 0.]\n",
      " [1. 0. 0.]\n",
      " [1. 0. 0.]\n",
      " [1. 0. 0.]\n",
      " [1. 0. 0.]\n",
      " [1. 0. 0.]\n",
      " [1. 0. 0.]\n",
      " [1. 0. 0.]\n",
      " [1. 0. 0.]\n",
      " [1. 0. 0.]\n",
      " [1. 0. 0.]\n",
      " [1. 0. 0.]\n",
      " [1. 0. 0.]\n",
      " [1. 0. 0.]\n",
      " [1. 0. 0.]\n",
      " [1. 0. 0.]\n",
      " [1. 0. 0.]\n",
      " [1. 0. 0.]\n",
      " [1. 0. 0.]\n",
      " [1. 0. 0.]\n",
      " [1. 0. 0.]\n",
      " [1. 0. 0.]\n",
      " [1. 0. 0.]\n",
      " [1. 0. 0.]\n",
      " [1. 0. 0.]\n",
      " [1. 0. 0.]\n",
      " [1. 0. 0.]\n",
      " [1. 0. 0.]\n",
      " [1. 0. 0.]\n",
      " [1. 0. 0.]\n",
      " [1. 0. 0.]\n",
      " [1. 0. 0.]\n",
      " [1. 0. 0.]\n",
      " [1. 0. 0.]\n",
      " [1. 0. 0.]\n",
      " [1. 0. 0.]\n",
      " [1. 0. 0.]\n",
      " [1. 0. 0.]\n",
      " [1. 0. 0.]\n",
      " [1. 0. 0.]\n",
      " [1. 0. 0.]\n",
      " [1. 0. 0.]\n",
      " [1. 0. 0.]\n",
      " [1. 0. 0.]\n",
      " [1. 0. 0.]\n",
      " [1. 0. 0.]\n",
      " [1. 0. 0.]\n",
      " [1. 0. 0.]\n",
      " [1. 0. 0.]\n",
      " [0. 0. 1.]\n",
      " [0. 0. 1.]\n",
      " [0. 0. 1.]\n",
      " [0. 1. 0.]\n",
      " [0. 0. 1.]\n",
      " [0. 1. 0.]\n",
      " [0. 0. 1.]\n",
      " [0. 1. 0.]\n",
      " [0. 0. 1.]\n",
      " [0. 1. 0.]\n",
      " [0. 1. 0.]\n",
      " [0. 1. 0.]\n",
      " [0. 1. 0.]\n",
      " [0. 0. 1.]\n",
      " [0. 1. 0.]\n",
      " [0. 0. 1.]\n",
      " [0. 1. 0.]\n",
      " [0. 1. 0.]\n",
      " [0. 1. 0.]\n",
      " [0. 1. 0.]\n",
      " [0. 0. 1.]\n",
      " [0. 1. 0.]\n",
      " [0. 0. 1.]\n",
      " [0. 1. 0.]\n",
      " [0. 1. 0.]\n",
      " [0. 0. 1.]\n",
      " [0. 0. 1.]\n",
      " [0. 0. 1.]\n",
      " [0. 0. 1.]\n",
      " [0. 1. 0.]\n",
      " [0. 1. 0.]\n",
      " [0. 1. 0.]\n",
      " [0. 1. 0.]\n",
      " [0. 0. 1.]\n",
      " [0. 1. 0.]\n",
      " [0. 0. 1.]\n",
      " [0. 0. 1.]\n",
      " [0. 1. 0.]\n",
      " [0. 1. 0.]\n",
      " [0. 1. 0.]\n",
      " [0. 1. 0.]\n",
      " [0. 0. 1.]\n",
      " [0. 1. 0.]\n",
      " [0. 1. 0.]\n",
      " [0. 1. 0.]\n",
      " [0. 1. 0.]\n",
      " [0. 1. 0.]\n",
      " [0. 1. 0.]\n",
      " [0. 1. 0.]\n",
      " [0. 1. 0.]\n",
      " [0. 0. 1.]\n",
      " [0. 0. 1.]\n",
      " [0. 0. 1.]\n",
      " [0. 0. 1.]\n",
      " [0. 0. 1.]\n",
      " [0. 0. 1.]\n",
      " [0. 1. 0.]\n",
      " [0. 0. 1.]\n",
      " [0. 0. 1.]\n",
      " [0. 0. 1.]\n",
      " [0. 0. 1.]\n",
      " [0. 0. 1.]\n",
      " [0. 0. 1.]\n",
      " [0. 0. 1.]\n",
      " [0. 0. 1.]\n",
      " [0. 0. 1.]\n",
      " [0. 0. 1.]\n",
      " [0. 0. 1.]\n",
      " [0. 0. 1.]\n",
      " [0. 1. 0.]\n",
      " [0. 0. 1.]\n",
      " [0. 0. 1.]\n",
      " [0. 0. 1.]\n",
      " [0. 0. 1.]\n",
      " [0. 0. 1.]\n",
      " [0. 0. 1.]\n",
      " [0. 0. 1.]\n",
      " [0. 0. 1.]\n",
      " [0. 0. 1.]\n",
      " [0. 0. 1.]\n",
      " [0. 0. 1.]\n",
      " [0. 0. 1.]\n",
      " [0. 0. 1.]\n",
      " [0. 0. 1.]\n",
      " [0. 0. 1.]\n",
      " [0. 0. 1.]\n",
      " [0. 0. 1.]\n",
      " [0. 0. 1.]\n",
      " [0. 0. 1.]\n",
      " [0. 0. 1.]\n",
      " [0. 0. 1.]\n",
      " [0. 0. 1.]\n",
      " [0. 0. 1.]\n",
      " [0. 0. 1.]\n",
      " [0. 0. 1.]\n",
      " [0. 0. 1.]\n",
      " [0. 0. 1.]\n",
      " [0. 0. 1.]\n",
      " [0. 0. 1.]\n",
      " [0. 0. 1.]]\n"
     ]
    }
   ],
   "source": [
    "size = (matrix_x_multiclass.shape[0], vetor_y_multiclass.shape[1])\n",
    "predicoes = np.ones(size, dtype=float)\n",
    "for k in range(w_gd_m.shape[0]):   \n",
    "    for i in range(matrix_x_multiclass.shape[0]):\n",
    "        a = np.exp(w_gd_m[k].dot(matrix_x_multiclass[i]))\n",
    "        b = 0\n",
    "        for j in range(w_gd_m.shape[0]):\n",
    "            b = b + np.exp(w_gd_m[j].dot(matrix_x_multiclass[i]))\n",
    "        predicoes[i][k] = a/b\n",
    "\n",
    "for i in range(predicoes.shape[0]):\n",
    "    index = np.argmax(predicoes[i], axis=0)\n",
    "    for j in range(len(predicoes[i])):\n",
    "        if(j == index):\n",
    "            predicoes[i][index] = 1.0\n",
    "        else:\n",
    "            predicoes[i][j] = 0.0\n",
    "\n",
    "print(predicoes)"
   ]
  },
  {
   "cell_type": "code",
   "execution_count": 80,
   "metadata": {},
   "outputs": [],
   "source": [
    "def gradiente_estocastico_multiclass(matrix_x, vetor_y, epocas, alfa):\n",
    "    \n",
    "    size = (vetor_y.shape[1], matrix_x.shape[1])    \n",
    "    w_matrix = np.ones(size, dtype=float)\n",
    "    #y_chapeu = matrix_x.dot(w_matrix)\n",
    "    #data =np.append(matrix_x, np.split(vetor_y, matrix_x.shape[0], axis=0), axis=1)\n",
    "\n",
    "    data =np.append(matrix_x, vetor_y, axis=1)\n",
    "    \n",
    "    mse = []\n",
    "\n",
    "    for k in range(w_matrix.shape[0]):\n",
    "        for epoca in range(epocas):\n",
    "            #somatorio = 0\n",
    "            for i in range(matrix_x.shape[0]):\n",
    "                _sum = 0\n",
    "                for j in range(w_matrix.shape[0]):\n",
    "                    _sum += np.exp(w_matrix[j].dot(matrix_x[i]))\n",
    "        \n",
    "                err = np.exp(w_matrix[k].dot(matrix_x[i]))/_sum\n",
    "                \n",
    "                w_matrix[k] = w_matrix[k] + alfa * (vetor_y[i][k] - err) * matrix_x[i]\n",
    "                #somatorio += (vetor_y[i] - sigmoide(y_chapeu[i])) * matrix_x[i]\n",
    "\n",
    "            #mse.append((-1/matrix_x.shape[0]) * somatorio)        \n",
    "            data = np.random.permutation(data)\n",
    "            matrix_x = data[: ,0:matrix_x.shape[1]]\n",
    "            vetor_y = data[:,matrix_x.shape[1]:]\n",
    "                \n",
    "    return w_matrix, mse"
   ]
  },
  {
   "cell_type": "code",
   "execution_count": 82,
   "metadata": {
    "scrolled": true
   },
   "outputs": [
    {
     "name": "stdout",
     "output_type": "stream",
     "text": [
      "[[-49.0990762  -56.0370963   48.51865288 -72.44133631 -69.63947435]\n",
      " [  1.           1.           1.           1.           1.        ]\n",
      " [  1.           1.           1.           1.           1.        ]]\n",
      "[[-49.0990762  -56.0370963   48.51865288 -72.44133631 -69.63947435]\n",
      " [-31.74324649   4.43014345 -30.74180214  12.23140452   3.57585036]\n",
      " [  1.           1.           1.           1.           1.        ]]\n",
      "[[-49.0990762  -56.0370963   48.51865288 -72.44133631 -69.63947435]\n",
      " [-31.74324649   4.43014345 -30.74180214  12.23140452   3.57585036]\n",
      " [-68.2658333   39.63788947 -12.13954131  50.87375976  56.98500431]]\n"
     ]
    }
   ],
   "source": [
    "w_gde_m, mse = gradiente_estocastico_multiclass(matrix_x_multiclass, vetor_y_multiclass, 10000, 0.0001)"
   ]
  },
  {
   "cell_type": "code",
   "execution_count": 83,
   "metadata": {},
   "outputs": [
    {
     "data": {
      "text/plain": [
       "array([[-49.0990762 , -56.0370963 ,  48.51865288, -72.44133631,\n",
       "        -69.63947435],\n",
       "       [-31.74324649,   4.43014345, -30.74180214,  12.23140452,\n",
       "          3.57585036],\n",
       "       [-68.2658333 ,  39.63788947, -12.13954131,  50.87375976,\n",
       "         56.98500431]])"
      ]
     },
     "execution_count": 83,
     "metadata": {},
     "output_type": "execute_result"
    }
   ],
   "source": [
    "w_gde_m"
   ]
  },
  {
   "cell_type": "code",
   "execution_count": 84,
   "metadata": {},
   "outputs": [
    {
     "name": "stdout",
     "output_type": "stream",
     "text": [
      "[[1. 0. 0.]\n",
      " [1. 0. 0.]\n",
      " [1. 0. 0.]\n",
      " [1. 0. 0.]\n",
      " [1. 0. 0.]\n",
      " [1. 0. 0.]\n",
      " [1. 0. 0.]\n",
      " [1. 0. 0.]\n",
      " [1. 0. 0.]\n",
      " [1. 0. 0.]\n",
      " [1. 0. 0.]\n",
      " [1. 0. 0.]\n",
      " [1. 0. 0.]\n",
      " [1. 0. 0.]\n",
      " [1. 0. 0.]\n",
      " [1. 0. 0.]\n",
      " [1. 0. 0.]\n",
      " [1. 0. 0.]\n",
      " [1. 0. 0.]\n",
      " [1. 0. 0.]\n",
      " [1. 0. 0.]\n",
      " [1. 0. 0.]\n",
      " [1. 0. 0.]\n",
      " [1. 0. 0.]\n",
      " [1. 0. 0.]\n",
      " [1. 0. 0.]\n",
      " [1. 0. 0.]\n",
      " [1. 0. 0.]\n",
      " [1. 0. 0.]\n",
      " [1. 0. 0.]\n",
      " [1. 0. 0.]\n",
      " [1. 0. 0.]\n",
      " [1. 0. 0.]\n",
      " [1. 0. 0.]\n",
      " [1. 0. 0.]\n",
      " [1. 0. 0.]\n",
      " [1. 0. 0.]\n",
      " [1. 0. 0.]\n",
      " [1. 0. 0.]\n",
      " [1. 0. 0.]\n",
      " [1. 0. 0.]\n",
      " [1. 0. 0.]\n",
      " [1. 0. 0.]\n",
      " [1. 0. 0.]\n",
      " [1. 0. 0.]\n",
      " [1. 0. 0.]\n",
      " [1. 0. 0.]\n",
      " [1. 0. 0.]\n",
      " [1. 0. 0.]\n",
      " [1. 0. 0.]\n",
      " [0. 0. 1.]\n",
      " [0. 0. 1.]\n",
      " [0. 0. 1.]\n",
      " [0. 1. 0.]\n",
      " [0. 0. 1.]\n",
      " [0. 1. 0.]\n",
      " [0. 0. 1.]\n",
      " [0. 1. 0.]\n",
      " [0. 0. 1.]\n",
      " [0. 1. 0.]\n",
      " [0. 1. 0.]\n",
      " [0. 1. 0.]\n",
      " [0. 1. 0.]\n",
      " [0. 0. 1.]\n",
      " [0. 1. 0.]\n",
      " [0. 0. 1.]\n",
      " [0. 1. 0.]\n",
      " [0. 1. 0.]\n",
      " [0. 1. 0.]\n",
      " [0. 1. 0.]\n",
      " [0. 0. 1.]\n",
      " [0. 1. 0.]\n",
      " [0. 0. 1.]\n",
      " [0. 1. 0.]\n",
      " [0. 1. 0.]\n",
      " [0. 0. 1.]\n",
      " [0. 0. 1.]\n",
      " [0. 0. 1.]\n",
      " [0. 0. 1.]\n",
      " [0. 1. 0.]\n",
      " [0. 1. 0.]\n",
      " [0. 1. 0.]\n",
      " [0. 1. 0.]\n",
      " [0. 0. 1.]\n",
      " [0. 1. 0.]\n",
      " [0. 0. 1.]\n",
      " [0. 0. 1.]\n",
      " [0. 1. 0.]\n",
      " [0. 1. 0.]\n",
      " [0. 1. 0.]\n",
      " [0. 1. 0.]\n",
      " [0. 0. 1.]\n",
      " [0. 1. 0.]\n",
      " [0. 1. 0.]\n",
      " [0. 1. 0.]\n",
      " [0. 1. 0.]\n",
      " [0. 1. 0.]\n",
      " [0. 1. 0.]\n",
      " [0. 1. 0.]\n",
      " [0. 1. 0.]\n",
      " [0. 0. 1.]\n",
      " [0. 0. 1.]\n",
      " [0. 0. 1.]\n",
      " [0. 0. 1.]\n",
      " [0. 0. 1.]\n",
      " [0. 0. 1.]\n",
      " [0. 1. 0.]\n",
      " [0. 0. 1.]\n",
      " [0. 0. 1.]\n",
      " [0. 0. 1.]\n",
      " [0. 0. 1.]\n",
      " [0. 0. 1.]\n",
      " [0. 0. 1.]\n",
      " [0. 0. 1.]\n",
      " [0. 0. 1.]\n",
      " [0. 0. 1.]\n",
      " [0. 0. 1.]\n",
      " [0. 0. 1.]\n",
      " [0. 0. 1.]\n",
      " [0. 1. 0.]\n",
      " [0. 0. 1.]\n",
      " [0. 0. 1.]\n",
      " [0. 0. 1.]\n",
      " [0. 0. 1.]\n",
      " [0. 0. 1.]\n",
      " [0. 0. 1.]\n",
      " [0. 0. 1.]\n",
      " [0. 0. 1.]\n",
      " [0. 0. 1.]\n",
      " [0. 0. 1.]\n",
      " [0. 0. 1.]\n",
      " [0. 0. 1.]\n",
      " [0. 0. 1.]\n",
      " [0. 0. 1.]\n",
      " [0. 0. 1.]\n",
      " [0. 0. 1.]\n",
      " [0. 0. 1.]\n",
      " [0. 0. 1.]\n",
      " [0. 0. 1.]\n",
      " [0. 0. 1.]\n",
      " [0. 0. 1.]\n",
      " [0. 0. 1.]\n",
      " [0. 0. 1.]\n",
      " [0. 0. 1.]\n",
      " [0. 0. 1.]\n",
      " [0. 0. 1.]\n",
      " [0. 0. 1.]\n",
      " [0. 0. 1.]\n",
      " [0. 0. 1.]\n",
      " [0. 0. 1.]]\n"
     ]
    }
   ],
   "source": [
    "size = (matrix_x_multiclass.shape[0], vetor_y_multiclass.shape[1])\n",
    "predicoes = np.ones(size, dtype=float)\n",
    "for k in range(w_gde_m.shape[0]):   \n",
    "    for i in range(matrix_x_multiclass.shape[0]):\n",
    "        a = np.exp(w_gde_m[k].dot(matrix_x_multiclass[i]))\n",
    "        b = 0\n",
    "        for j in range(w_gde_m.shape[0]):\n",
    "            b = b + np.exp(w_gde_m[j].dot(matrix_x_multiclass[i]))\n",
    "        predicoes[i][k] = a/b\n",
    "\n",
    "for i in range(predicoes.shape[0]):\n",
    "    index = np.argmax(predicoes[i], axis=0)\n",
    "    for j in range(len(predicoes[i])):\n",
    "        if(j == index):\n",
    "            predicoes[i][index] = 1.0\n",
    "        else:\n",
    "            predicoes[i][j] = 0.0\n",
    "\n",
    "print(predicoes)"
   ]
  },
  {
   "cell_type": "code",
   "execution_count": null,
   "metadata": {},
   "outputs": [],
   "source": []
  },
  {
   "cell_type": "code",
   "execution_count": null,
   "metadata": {},
   "outputs": [],
   "source": []
  },
  {
   "cell_type": "code",
   "execution_count": null,
   "metadata": {},
   "outputs": [],
   "source": []
  },
  {
   "cell_type": "code",
   "execution_count": null,
   "metadata": {},
   "outputs": [],
   "source": []
  },
  {
   "cell_type": "code",
   "execution_count": null,
   "metadata": {},
   "outputs": [],
   "source": []
  },
  {
   "cell_type": "code",
   "execution_count": null,
   "metadata": {},
   "outputs": [],
   "source": []
  },
  {
   "cell_type": "code",
   "execution_count": null,
   "metadata": {},
   "outputs": [],
   "source": []
  },
  {
   "cell_type": "code",
   "execution_count": null,
   "metadata": {},
   "outputs": [],
   "source": []
  },
  {
   "cell_type": "code",
   "execution_count": null,
   "metadata": {},
   "outputs": [],
   "source": []
  },
  {
   "cell_type": "code",
   "execution_count": null,
   "metadata": {},
   "outputs": [],
   "source": []
  },
  {
   "cell_type": "code",
   "execution_count": null,
   "metadata": {},
   "outputs": [],
   "source": []
  },
  {
   "cell_type": "code",
   "execution_count": null,
   "metadata": {},
   "outputs": [],
   "source": []
  },
  {
   "cell_type": "code",
   "execution_count": null,
   "metadata": {},
   "outputs": [],
   "source": []
  },
  {
   "cell_type": "code",
   "execution_count": null,
   "metadata": {},
   "outputs": [],
   "source": []
  },
  {
   "cell_type": "code",
   "execution_count": null,
   "metadata": {},
   "outputs": [],
   "source": []
  },
  {
   "cell_type": "code",
   "execution_count": null,
   "metadata": {},
   "outputs": [],
   "source": []
  }
 ],
 "metadata": {
  "kernelspec": {
   "display_name": "Python 3",
   "language": "python",
   "name": "python3"
  },
  "language_info": {
   "codemirror_mode": {
    "name": "ipython",
    "version": 3
   },
   "file_extension": ".py",
   "mimetype": "text/x-python",
   "name": "python",
   "nbconvert_exporter": "python",
   "pygments_lexer": "ipython3",
   "version": "3.7.1"
  }
 },
 "nbformat": 4,
 "nbformat_minor": 2
}
