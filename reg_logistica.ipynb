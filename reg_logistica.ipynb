{
 "cells": [
  {
   "cell_type": "code",
   "execution_count": 73,
   "metadata": {},
   "outputs": [],
   "source": [
    "import pandas as pd\n",
    "import numpy as np\n",
    "import matplotlib.pyplot as plt\n",
    "from pandas import DataFrame\n",
    "import random as rd"
   ]
  },
  {
   "cell_type": "code",
   "execution_count": 74,
   "metadata": {},
   "outputs": [],
   "source": [
    "data_table = pd.read_csv('iris.csv', names =['sepal_length', 'sepal_width', 'petal_length', 'petal_width', 'flower'])"
   ]
  },
  {
   "cell_type": "code",
   "execution_count": 75,
   "metadata": {},
   "outputs": [],
   "source": [
    "iris_data_multiclass = pd.read_csv('iris_multiclasse.csv', names =['sepal_length', 'sepal_width', 'petal_length', 'petal_width', 'flower1','flower2','flower3'])"
   ]
  },
  {
   "cell_type": "code",
   "execution_count": 76,
   "metadata": {},
   "outputs": [],
   "source": [
    "def normalization(matrix, vector):\n",
    "    #Mean calculation\n",
    "    mVector = np.mean(vector, axis=0)\n",
    "    mMatrix = np.mean(matrix, axis=0)\n",
    "    \n",
    "    #Standard deviation\n",
    "    stdVector = np.std(vector, axis = 0)\n",
    "    stdMatrix = np.std(matrix, axis = 0)\n",
    "     \n",
    "    #Normalization of data\n",
    "    vector = (vector - mVector)/stdVector\n",
    "    matrix = (matrix - mMatrix)/stdMatrix\n",
    "    \n",
    "    return matrix, vector"
   ]
  },
  {
   "cell_type": "code",
   "execution_count": 77,
   "metadata": {},
   "outputs": [],
   "source": [
    "def predict_logistic_regression_binary(matrix_x, w):\n",
    "    \n",
    "    predictions = []\n",
    "    matrix_x = np.insert(matrix_x, 0, 1, axis =1)\n",
    "    for i in range(matrix_x.shape[0]):\n",
    "        predictions.append(round(sigmoide(matrix_x[i].dot(w))))\n",
    "        \n",
    "    return predictions"
   ]
  },
  {
   "cell_type": "code",
   "execution_count": 78,
   "metadata": {},
   "outputs": [],
   "source": [
    "def predict_multiclass_logistic_regression(matrix_x_multiclass, w):\n",
    "    \n",
    "    matrix_x_multiclass = np.insert(matrix_x_multiclass, 0, 1, axis =1)\n",
    "    \n",
    "    size = (matrix_x_multiclass.shape[0], w.shape[0])\n",
    "    predictions = np.ones(size, dtype=float)\n",
    "    \n",
    "    for k in range(w.shape[0]):   \n",
    "        for i in range(matrix_x_multiclass.shape[0]):\n",
    "            num = np.exp(w[k].dot(matrix_x_multiclass[i]))\n",
    "            sum_ = 0\n",
    "            for j in range(w.shape[0]):\n",
    "                sum_ = sum_ + np.exp(w[j].dot(matrix_x_multiclass[i]))\n",
    "            predictions[i][k] = num/sum_\n",
    "\n",
    "    for i in range(predictions.shape[0]):\n",
    "        index = np.argmax(predictions[i], axis=0)\n",
    "        for j in range(len(predictions[i])):\n",
    "            if(j == index):\n",
    "                predictions[i][index] = 1.0\n",
    "            else:\n",
    "                predictions[i][j] = 0.0\n",
    "    \n",
    "    return predictions"
   ]
  },
  {
   "cell_type": "code",
   "execution_count": 79,
   "metadata": {},
   "outputs": [],
   "source": [
    "def plot_cost(mse):\n",
    "    plt.plot(list(range(0, len(mse))), [item[0] for item in mse])\n",
    "    plt.show()"
   ]
  },
  {
   "cell_type": "code",
   "execution_count": 80,
   "metadata": {},
   "outputs": [],
   "source": [
    "def crossValidationSplit(xMatrix, yVector, n_folds): \n",
    "    xMatrixSplit = []\n",
    "    yVectorSplit = []\n",
    "    xMatrixCopy = xMatrix\n",
    "\n",
    "    yVectorCopy = yVector\n",
    "    foldSize = int(len(xMatrix) / n_folds) \n",
    "    \n",
    "    for i in range(n_folds): \n",
    "        foldXM = [] \n",
    "        foldYV = []\n",
    "        while len(foldXM) < foldSize: \n",
    "            index = rd.randrange(len(xMatrixCopy)) \n",
    "            foldXM.append(xMatrixCopy[index]) \n",
    "            xMatrixCopy = np.delete(xMatrixCopy, index, axis=0)\n",
    "            foldYV.append(yVectorCopy[index]) \n",
    "            yVectorCopy = np.delete(yVectorCopy, index)\n",
    "        xMatrixSplit.append(foldXM)\n",
    "        yVectorSplit.append(foldYV)\n",
    "    return xMatrixSplit, yVectorSplit\n",
    "\n",
    "\n",
    "def crossValidationSplitMulticlass(xMatrix, yVector, n_folds): \n",
    "    xMatrixSplit = []\n",
    "    yVectorSplit = []\n",
    "    xMatrixCopy = xMatrix\n",
    "\n",
    "    yVectorCopy = yVector\n",
    "\n",
    "    foldSize = int(len(xMatrix) / n_folds) \n",
    "    \n",
    "    for i in range(n_folds): \n",
    "        foldXM = [] \n",
    "        foldYV = []\n",
    "        while len(foldXM) < foldSize: \n",
    "            index = rd.randrange(len(xMatrixCopy)) \n",
    "            foldXM.append(xMatrixCopy[index]) \n",
    "            xMatrixCopy = np.delete(xMatrixCopy, index, axis=0)\n",
    "            foldYV.append(yVectorCopy[index]) \n",
    "            yVectorCopy = np.delete(yVectorCopy, index,axis=0)\n",
    "        xMatrixSplit.append(foldXM)\n",
    "        yVectorSplit.append(foldYV)\n",
    "\n",
    "    return xMatrixSplit, yVectorSplit"
   ]
  },
  {
   "cell_type": "code",
   "execution_count": 81,
   "metadata": {},
   "outputs": [],
   "source": [
    "def kFoldCrossValidation(xMatrix, yVector, kParts, algorithm, *args):\n",
    "    xMFolds, yVFolds = crossValidationSplit(xMatrix, yVector, kParts) \n",
    "    scores = list() \n",
    "    count = 0;\n",
    "    for fold in xMFolds: \n",
    "        xTrain = xMFolds\n",
    "        yTrain = yVFolds\n",
    "        \n",
    "        xTest = xTrain[count]\n",
    "        yTest = np.array(yTrain[count])\n",
    "        \n",
    "        np.delete(xTrain,count)\n",
    "        np.delete(yTrain,count)\n",
    "        \n",
    "        yTrain = np.stack(yTrain)\n",
    "        yTrain = yTrain.ravel()\n",
    "        xTrainAux = []\n",
    "\n",
    "        for i in range(kParts):\n",
    "            for j in range(len(xTrain[i])):\n",
    "                xTrainAux.append(xTrain[i][j])\n",
    "        xTrain = np.stack(xTrainAux)\n",
    "        yTest = np.where(yTest < 0, 0, yTest)\n",
    "        predicted = algorithm(xTrain, yTrain, xTest,  *args)\n",
    "        for i in range(len(predicted)):\n",
    "            print(\"Predicted: \",predicted[i],\"Actual: \",yTest[i])\n",
    "        accuracy = np.array([x - y for x, y in zip(predicted, yTest)])/kParts\n",
    "        scores.append(accuracy) \n",
    "    return scores\n",
    "\n",
    "def kFoldCrossValidationMulticlass(xMatrix, yVector, kParts, algorithm, *args):\n",
    "    xMFolds, yVFolds = crossValidationSplitMulticlass(xMatrix, yVector, kParts) \n",
    "    scores = list() \n",
    "    count = 0;\n",
    "    for fold in xMFolds: \n",
    "        xTrain = xMFolds\n",
    "        yTrain = yVFolds\n",
    "        \n",
    "        xTest = xTrain[count]\n",
    "        yTest = np.array(yTrain[count])\n",
    "        \n",
    "        np.delete(xTrain,count)\n",
    "        np.delete(yTrain,count)\n",
    "        \n",
    "        xTrainAux = []\n",
    "        yTrainAux = []\n",
    "        for i in range(kParts):\n",
    "            for j in range(len(yTrain[i])):\n",
    "                yTrainAux.append(yTrain[i][j])\n",
    "        for i in range(kParts):\n",
    "            for j in range(len(xTrain[i])):\n",
    "                xTrainAux.append(xTrain[i][j])\n",
    "        xTrain = np.stack(xTrainAux)\n",
    "        yTrain = np.stack(yTrainAux)\n",
    "        \n",
    "        predicted = algorithm(xTrain, yTrain, xTest,  *args)\n",
    "        for i in range(len(predicted)):\n",
    "            aux = np.array([round(x) for x in yTest[i]])\n",
    "            aux = np.where(aux < 0, 0, aux)\n",
    "            print(\"Predicted: \",predicted[i],\"Actual: \", aux)\n",
    "        accuracy = np.array([x - y for x, y in zip(predicted, aux)])/kParts\n",
    "        scores.append(accuracy) \n",
    "    return scores"
   ]
  },
  {
   "cell_type": "code",
   "execution_count": 82,
   "metadata": {},
   "outputs": [],
   "source": [
    "def gradient_logistic_regression(xTrain, yTrain, xTest, alpha, epochs): \n",
    "    coef, m = gradient_descent(xTrain, yTrain, epochs, alpha)\n",
    "    return(predict_logistic_regression_binary(xTest, coef))"
   ]
  },
  {
   "cell_type": "code",
   "execution_count": 83,
   "metadata": {},
   "outputs": [],
   "source": [
    "def stochastic_logistic_regression(xTrain, yTrain, xTest, alpha, epochs): \n",
    "    coef, m = stochastic_gradient_descent(xTrain, yTrain, epochs, alpha)\n",
    "    return(predict_logistic_regression_binary(xTest, coef))"
   ]
  },
  {
   "cell_type": "code",
   "execution_count": 84,
   "metadata": {},
   "outputs": [],
   "source": [
    "def gradient_logistic_regression_multiclass(xTrain, yTrain, xTest, alpha, epochs): \n",
    "    #xTrain, yTrain = normalization(xTrain, yTrain)\n",
    "    coef, mse = gradient_descent_multiclass(xTrain, yTrain, epochs, alpha)\n",
    "    return(predict_multiclass_logistic_regression(xTest, coef))"
   ]
  },
  {
   "cell_type": "code",
   "execution_count": 85,
   "metadata": {},
   "outputs": [],
   "source": [
    "def stochastic_logistic_regression_multiclass(xTrain, yTrain, xTest, alpha, epochs): \n",
    "    #xTrain, yTrain = normalization(xTrain, yTrain)\n",
    "    coef, mse = stochastic_gradient_descent_multiclass(xTrain, yTrain, epochs, alpha)\n",
    "    return(predict_multiclass_logistic_regression(xTest, coef))"
   ]
  },
  {
   "cell_type": "markdown",
   "metadata": {},
   "source": [
    "## Binary logistic regression"
   ]
  },
  {
   "cell_type": "code",
   "execution_count": 54,
   "metadata": {},
   "outputs": [],
   "source": [
    "matrix_x = np.array(data_table[['sepal_length', 'sepal_width', 'petal_length', 'petal_width']])\n",
    "vector_y = np.array(data_table['flower'])"
   ]
  },
  {
   "cell_type": "code",
   "execution_count": 55,
   "metadata": {},
   "outputs": [],
   "source": [
    "matrix_x, vector_y = normalization(matrix_x, vector_y)"
   ]
  },
  {
   "cell_type": "code",
   "execution_count": 56,
   "metadata": {},
   "outputs": [],
   "source": [
    "def sigmoide(z):\n",
    "    return 1 / (1 + np.exp(-z))"
   ]
  },
  {
   "cell_type": "code",
   "execution_count": 57,
   "metadata": {},
   "outputs": [],
   "source": [
    "def gradient_descent(matrix_x, vector_y, epochs, alpha):\n",
    "    matrix_x = np.insert(matrix_x, 0, 1, axis =1)\n",
    "    w_matrix = np.ones((matrix_x.shape[1],), dtype=float)\n",
    "    y_predicted = matrix_x.dot(w_matrix)\n",
    "    mse = []\n",
    "    for epoch in range(epochs):\n",
    "        somatorio = 0\n",
    "        for i in range(matrix_x.shape[0]):\n",
    "            somatorio += (vector_y[i] - sigmoide(y_predicted[i])) * matrix_x[i]\n",
    "\n",
    "        mse.append((-1/matrix_x.shape[0]) * somatorio)\n",
    "        w_matrix = w_matrix + (alpha/matrix_x.shape[0])*somatorio\n",
    "        y_predicted = matrix_x.dot(w_matrix)\n",
    "\n",
    "    return w_matrix, mse"
   ]
  },
  {
   "cell_type": "code",
   "execution_count": 58,
   "metadata": {},
   "outputs": [],
   "source": [
    "w_gd, mse = gradient_descent(matrix_x, vector_y, 9000, 0.001)"
   ]
  },
  {
   "cell_type": "code",
   "execution_count": 59,
   "metadata": {},
   "outputs": [
    {
     "data": {
      "text/plain": [
       "array([-3.41945565,  4.21455704, -2.48377345,  5.53228917,  5.49970277])"
      ]
     },
     "execution_count": 59,
     "metadata": {},
     "output_type": "execute_result"
    }
   ],
   "source": [
    "w_gd"
   ]
  },
  {
   "cell_type": "code",
   "execution_count": 60,
   "metadata": {},
   "outputs": [
    {
     "data": {
      "image/png": "[encoded data removed]",
      "text/plain": [
       "<Figure size 432x288 with 1 Axes>"
      ]
     },
     "metadata": {
      "needs_background": "light"
     },
     "output_type": "display_data"
    }
   ],
   "source": [
    "plot_cost(mse)"
   ]
  },
  {
   "cell_type": "code",
   "execution_count": 61,
   "metadata": {},
   "outputs": [],
   "source": [
    "epochs = 1000 \n",
    "alpha =  0.001\n",
    "kParts = 5;"
   ]
  },
  {
   "cell_type": "code",
   "execution_count": 62,
   "metadata": {},
   "outputs": [
    {
     "name": "stdout",
     "output_type": "stream",
     "text": [
      "Predicted:  1.0 Actual:  1.0\n",
      "Predicted:  1.0 Actual:  1.0\n",
      "Predicted:  0.0 Actual:  0.0\n",
      "Predicted:  1.0 Actual:  1.0\n",
      "Predicted:  0.0 Actual:  0.0\n",
      "Predicted:  0.0 Actual:  0.0\n",
      "Predicted:  0.0 Actual:  0.0\n",
      "Predicted:  0.0 Actual:  0.0\n",
      "Predicted:  0.0 Actual:  0.0\n",
      "Predicted:  1.0 Actual:  1.0\n",
      "Predicted:  1.0 Actual:  1.0\n",
      "Predicted:  0.0 Actual:  0.0\n",
      "Predicted:  0.0 Actual:  0.0\n",
      "Predicted:  1.0 Actual:  1.0\n",
      "Predicted:  1.0 Actual:  1.0\n",
      "Predicted:  0.0 Actual:  0.0\n",
      "Predicted:  1.0 Actual:  1.0\n",
      "Predicted:  0.0 Actual:  0.0\n",
      "Predicted:  0.0 Actual:  0.0\n",
      "Predicted:  0.0 Actual:  1.0\n",
      "Predicted:  1.0 Actual:  1.0\n",
      "Predicted:  1.0 Actual:  1.0\n",
      "Predicted:  0.0 Actual:  0.0\n",
      "Predicted:  1.0 Actual:  1.0\n",
      "Predicted:  0.0 Actual:  0.0\n",
      "Predicted:  0.0 Actual:  0.0\n",
      "Predicted:  0.0 Actual:  0.0\n",
      "Predicted:  0.0 Actual:  0.0\n",
      "Predicted:  0.0 Actual:  0.0\n",
      "Predicted:  1.0 Actual:  1.0\n",
      "Predicted:  1.0 Actual:  1.0\n",
      "Predicted:  0.0 Actual:  0.0\n",
      "Predicted:  0.0 Actual:  0.0\n",
      "Predicted:  1.0 Actual:  1.0\n",
      "Predicted:  1.0 Actual:  1.0\n",
      "Predicted:  0.0 Actual:  0.0\n",
      "Predicted:  1.0 Actual:  1.0\n",
      "Predicted:  0.0 Actual:  0.0\n",
      "Predicted:  0.0 Actual:  0.0\n",
      "Predicted:  0.0 Actual:  1.0\n",
      "Predicted:  1.0 Actual:  1.0\n",
      "Predicted:  1.0 Actual:  1.0\n",
      "Predicted:  0.0 Actual:  0.0\n",
      "Predicted:  1.0 Actual:  1.0\n",
      "Predicted:  0.0 Actual:  0.0\n",
      "Predicted:  0.0 Actual:  0.0\n",
      "Predicted:  0.0 Actual:  0.0\n",
      "Predicted:  0.0 Actual:  0.0\n",
      "Predicted:  0.0 Actual:  0.0\n",
      "Predicted:  1.0 Actual:  1.0\n",
      "Predicted:  1.0 Actual:  1.0\n",
      "Predicted:  0.0 Actual:  0.0\n",
      "Predicted:  0.0 Actual:  0.0\n",
      "Predicted:  1.0 Actual:  1.0\n",
      "Predicted:  1.0 Actual:  1.0\n",
      "Predicted:  0.0 Actual:  0.0\n",
      "Predicted:  1.0 Actual:  1.0\n",
      "Predicted:  0.0 Actual:  0.0\n",
      "Predicted:  0.0 Actual:  0.0\n",
      "Predicted:  0.0 Actual:  1.0\n",
      "Predicted:  1.0 Actual:  1.0\n",
      "Predicted:  1.0 Actual:  1.0\n",
      "Predicted:  0.0 Actual:  0.0\n",
      "Predicted:  1.0 Actual:  1.0\n",
      "Predicted:  0.0 Actual:  0.0\n",
      "Predicted:  0.0 Actual:  0.0\n",
      "Predicted:  0.0 Actual:  0.0\n",
      "Predicted:  0.0 Actual:  0.0\n",
      "Predicted:  0.0 Actual:  0.0\n",
      "Predicted:  1.0 Actual:  1.0\n",
      "Predicted:  1.0 Actual:  1.0\n",
      "Predicted:  0.0 Actual:  0.0\n",
      "Predicted:  0.0 Actual:  0.0\n",
      "Predicted:  1.0 Actual:  1.0\n",
      "Predicted:  1.0 Actual:  1.0\n",
      "Predicted:  0.0 Actual:  0.0\n",
      "Predicted:  1.0 Actual:  1.0\n",
      "Predicted:  0.0 Actual:  0.0\n",
      "Predicted:  0.0 Actual:  0.0\n",
      "Predicted:  0.0 Actual:  1.0\n",
      "Predicted:  1.0 Actual:  1.0\n",
      "Predicted:  1.0 Actual:  1.0\n",
      "Predicted:  0.0 Actual:  0.0\n",
      "Predicted:  1.0 Actual:  1.0\n",
      "Predicted:  0.0 Actual:  0.0\n",
      "Predicted:  0.0 Actual:  0.0\n",
      "Predicted:  0.0 Actual:  0.0\n",
      "Predicted:  0.0 Actual:  0.0\n",
      "Predicted:  0.0 Actual:  0.0\n",
      "Predicted:  1.0 Actual:  1.0\n",
      "Predicted:  1.0 Actual:  1.0\n",
      "Predicted:  0.0 Actual:  0.0\n",
      "Predicted:  0.0 Actual:  0.0\n",
      "Predicted:  1.0 Actual:  1.0\n",
      "Predicted:  1.0 Actual:  1.0\n",
      "Predicted:  0.0 Actual:  0.0\n",
      "Predicted:  1.0 Actual:  1.0\n",
      "Predicted:  0.0 Actual:  0.0\n",
      "Predicted:  0.0 Actual:  0.0\n",
      "Predicted:  0.0 Actual:  1.0\n"
     ]
    },
    {
     "data": {
      "text/plain": [
       "[array([ 0. ,  0. ,  0. ,  0. ,  0. ,  0. ,  0. ,  0. ,  0. ,  0. ,  0. ,\n",
       "         0. ,  0. ,  0. ,  0. ,  0. ,  0. ,  0. ,  0. , -0.2]),\n",
       " array([ 0. ,  0. ,  0. ,  0. ,  0. ,  0. ,  0. ,  0. ,  0. ,  0. ,  0. ,\n",
       "         0. ,  0. ,  0. ,  0. ,  0. ,  0. ,  0. ,  0. , -0.2]),\n",
       " array([ 0. ,  0. ,  0. ,  0. ,  0. ,  0. ,  0. ,  0. ,  0. ,  0. ,  0. ,\n",
       "         0. ,  0. ,  0. ,  0. ,  0. ,  0. ,  0. ,  0. , -0.2]),\n",
       " array([ 0. ,  0. ,  0. ,  0. ,  0. ,  0. ,  0. ,  0. ,  0. ,  0. ,  0. ,\n",
       "         0. ,  0. ,  0. ,  0. ,  0. ,  0. ,  0. ,  0. , -0.2]),\n",
       " array([ 0. ,  0. ,  0. ,  0. ,  0. ,  0. ,  0. ,  0. ,  0. ,  0. ,  0. ,\n",
       "         0. ,  0. ,  0. ,  0. ,  0. ,  0. ,  0. ,  0. , -0.2])]"
      ]
     },
     "execution_count": 62,
     "metadata": {},
     "output_type": "execute_result"
    }
   ],
   "source": [
    "kFoldCrossValidation(matrix_x, vector_y, kParts, gradient_logistic_regression, alpha, epochs)"
   ]
  },
  {
   "cell_type": "code",
   "execution_count": 63,
   "metadata": {},
   "outputs": [],
   "source": [
    "predctions_gd = predict_logistic_regression_binary(matrix_x, w_gd)"
   ]
  },
  {
   "cell_type": "code",
   "execution_count": 69,
   "metadata": {},
   "outputs": [],
   "source": [
    "def stochastic_gradient_descent(matrix_x, vector_y, epochs, alpha):\n",
    "    matrix_x = np.insert(matrix_x, 0, 1, axis =1)\n",
    "    w_matrix = np.ones((matrix_x.shape[1],), dtype=float)\n",
    "    y_predicted = matrix_x.dot(w_matrix)\n",
    "    data =np.append(matrix_x, np.split(vector_y, matrix_x.shape[0], axis=0), axis=1)\n",
    "    mse = []\n",
    "\n",
    "    for epoch in range(epochs):\n",
    "        erro = 0\n",
    "        somatorio = 0\n",
    "        for i in range(matrix_x.shape[0]):\n",
    "            w_matrix  = w_matrix + alpha * (vector_y[i] - sigmoide(y_predicted[i])) * matrix_x[i]\n",
    "            somatorio += (vector_y[i] - sigmoide(y_predicted[i])) * matrix_x[i]\n",
    "        \n",
    "        mse.append((-1/matrix_x.shape[0]) * somatorio)        \n",
    "        data = np.random.permutation(data)\n",
    "        matrix_x = data[: ,0:matrix_x.shape[1]]\n",
    "        vector_y = data[:,matrix_x.shape[1]]\n",
    "        \n",
    "        y_predicted = matrix_x.dot(w_matrix)  \n",
    "    \n",
    "    return w_matrix, mse"
   ]
  },
  {
   "cell_type": "code",
   "execution_count": 65,
   "metadata": {},
   "outputs": [],
   "source": [
    "w_gde, mse = stochastic_gradient_descent(matrix_x, vector_y, 10000, 0.001)"
   ]
  },
  {
   "cell_type": "code",
   "execution_count": 66,
   "metadata": {},
   "outputs": [
    {
     "data": {
      "text/plain": [
       "array([-498.47703627,  364.70980605, -342.06964503,  486.27425106,\n",
       "        481.44881975])"
      ]
     },
     "execution_count": 66,
     "metadata": {},
     "output_type": "execute_result"
    }
   ],
   "source": [
    "w_gde"
   ]
  },
  {
   "cell_type": "code",
   "execution_count": 67,
   "metadata": {},
   "outputs": [],
   "source": [
    "predctions_gde = predict_logistic_regression_binary(matrix_x, w_gde)"
   ]
  },
  {
   "cell_type": "code",
   "execution_count": 70,
   "metadata": {},
   "outputs": [
    {
     "name": "stdout",
     "output_type": "stream",
     "text": [
      "Predicted:  0.0 Actual:  0.0\n",
      "Predicted:  1.0 Actual:  1.0\n",
      "Predicted:  0.0 Actual:  0.0\n",
      "Predicted:  0.0 Actual:  0.0\n",
      "Predicted:  0.0 Actual:  0.0\n",
      "Predicted:  0.0 Actual:  0.0\n",
      "Predicted:  1.0 Actual:  1.0\n",
      "Predicted:  1.0 Actual:  1.0\n",
      "Predicted:  0.0 Actual:  0.0\n",
      "Predicted:  1.0 Actual:  1.0\n",
      "Predicted:  0.0 Actual:  0.0\n",
      "Predicted:  0.0 Actual:  0.0\n",
      "Predicted:  0.0 Actual:  0.0\n",
      "Predicted:  1.0 Actual:  1.0\n",
      "Predicted:  1.0 Actual:  1.0\n",
      "Predicted:  0.0 Actual:  0.0\n",
      "Predicted:  0.0 Actual:  0.0\n",
      "Predicted:  1.0 Actual:  1.0\n",
      "Predicted:  1.0 Actual:  1.0\n",
      "Predicted:  0.0 Actual:  0.0\n",
      "Predicted:  0.0 Actual:  0.0\n",
      "Predicted:  1.0 Actual:  1.0\n",
      "Predicted:  0.0 Actual:  0.0\n",
      "Predicted:  0.0 Actual:  0.0\n",
      "Predicted:  0.0 Actual:  0.0\n",
      "Predicted:  0.0 Actual:  0.0\n",
      "Predicted:  1.0 Actual:  1.0\n",
      "Predicted:  1.0 Actual:  1.0\n",
      "Predicted:  0.0 Actual:  0.0\n",
      "Predicted:  1.0 Actual:  1.0\n",
      "Predicted:  0.0 Actual:  0.0\n",
      "Predicted:  0.0 Actual:  0.0\n",
      "Predicted:  0.0 Actual:  0.0\n",
      "Predicted:  1.0 Actual:  1.0\n",
      "Predicted:  1.0 Actual:  1.0\n",
      "Predicted:  0.0 Actual:  0.0\n",
      "Predicted:  0.0 Actual:  0.0\n",
      "Predicted:  1.0 Actual:  1.0\n",
      "Predicted:  1.0 Actual:  1.0\n",
      "Predicted:  0.0 Actual:  0.0\n",
      "Predicted:  0.0 Actual:  0.0\n",
      "Predicted:  1.0 Actual:  1.0\n",
      "Predicted:  0.0 Actual:  0.0\n",
      "Predicted:  0.0 Actual:  0.0\n",
      "Predicted:  0.0 Actual:  0.0\n",
      "Predicted:  0.0 Actual:  0.0\n",
      "Predicted:  1.0 Actual:  1.0\n",
      "Predicted:  1.0 Actual:  1.0\n",
      "Predicted:  0.0 Actual:  0.0\n",
      "Predicted:  1.0 Actual:  1.0\n",
      "Predicted:  0.0 Actual:  0.0\n",
      "Predicted:  0.0 Actual:  0.0\n",
      "Predicted:  0.0 Actual:  0.0\n",
      "Predicted:  1.0 Actual:  1.0\n",
      "Predicted:  1.0 Actual:  1.0\n",
      "Predicted:  0.0 Actual:  0.0\n",
      "Predicted:  0.0 Actual:  0.0\n",
      "Predicted:  1.0 Actual:  1.0\n",
      "Predicted:  1.0 Actual:  1.0\n",
      "Predicted:  0.0 Actual:  0.0\n",
      "Predicted:  0.0 Actual:  0.0\n",
      "Predicted:  1.0 Actual:  1.0\n",
      "Predicted:  0.0 Actual:  0.0\n",
      "Predicted:  0.0 Actual:  0.0\n",
      "Predicted:  0.0 Actual:  0.0\n",
      "Predicted:  0.0 Actual:  0.0\n",
      "Predicted:  1.0 Actual:  1.0\n",
      "Predicted:  1.0 Actual:  1.0\n",
      "Predicted:  0.0 Actual:  0.0\n",
      "Predicted:  1.0 Actual:  1.0\n",
      "Predicted:  0.0 Actual:  0.0\n",
      "Predicted:  0.0 Actual:  0.0\n",
      "Predicted:  0.0 Actual:  0.0\n",
      "Predicted:  1.0 Actual:  1.0\n",
      "Predicted:  1.0 Actual:  1.0\n",
      "Predicted:  0.0 Actual:  0.0\n",
      "Predicted:  0.0 Actual:  0.0\n",
      "Predicted:  1.0 Actual:  1.0\n",
      "Predicted:  1.0 Actual:  1.0\n",
      "Predicted:  0.0 Actual:  0.0\n",
      "Predicted:  0.0 Actual:  0.0\n",
      "Predicted:  1.0 Actual:  1.0\n",
      "Predicted:  0.0 Actual:  0.0\n",
      "Predicted:  0.0 Actual:  0.0\n",
      "Predicted:  0.0 Actual:  0.0\n",
      "Predicted:  0.0 Actual:  0.0\n",
      "Predicted:  1.0 Actual:  1.0\n",
      "Predicted:  1.0 Actual:  1.0\n",
      "Predicted:  0.0 Actual:  0.0\n",
      "Predicted:  1.0 Actual:  1.0\n",
      "Predicted:  0.0 Actual:  0.0\n",
      "Predicted:  0.0 Actual:  0.0\n",
      "Predicted:  0.0 Actual:  0.0\n",
      "Predicted:  1.0 Actual:  1.0\n",
      "Predicted:  1.0 Actual:  1.0\n",
      "Predicted:  0.0 Actual:  0.0\n",
      "Predicted:  0.0 Actual:  0.0\n",
      "Predicted:  1.0 Actual:  1.0\n",
      "Predicted:  1.0 Actual:  1.0\n",
      "Predicted:  0.0 Actual:  0.0\n"
     ]
    },
    {
     "data": {
      "text/plain": [
       "[array([0., 0., 0., 0., 0., 0., 0., 0., 0., 0., 0., 0., 0., 0., 0., 0., 0.,\n",
       "        0., 0., 0.]),\n",
       " array([0., 0., 0., 0., 0., 0., 0., 0., 0., 0., 0., 0., 0., 0., 0., 0., 0.,\n",
       "        0., 0., 0.]),\n",
       " array([0., 0., 0., 0., 0., 0., 0., 0., 0., 0., 0., 0., 0., 0., 0., 0., 0.,\n",
       "        0., 0., 0.]),\n",
       " array([0., 0., 0., 0., 0., 0., 0., 0., 0., 0., 0., 0., 0., 0., 0., 0., 0.,\n",
       "        0., 0., 0.]),\n",
       " array([0., 0., 0., 0., 0., 0., 0., 0., 0., 0., 0., 0., 0., 0., 0., 0., 0.,\n",
       "        0., 0., 0.])]"
      ]
     },
     "execution_count": 70,
     "metadata": {},
     "output_type": "execute_result"
    }
   ],
   "source": [
    "kFoldCrossValidation(matrix_x, vector_y, kParts, stochastic_logistic_regression, alpha, epochs)"
   ]
  },
  {
   "cell_type": "markdown",
   "metadata": {},
   "source": [
    "## Multiclass logistic regression"
   ]
  },
  {
   "cell_type": "code",
   "execution_count": 92,
   "metadata": {},
   "outputs": [],
   "source": [
    "matrix_x_multiclass = np.array(iris_data_multiclass[['sepal_length', 'sepal_width', 'petal_length', 'petal_width']])\n",
    "vector_y_multiclass = np.array(iris_data_multiclass[['flower1', 'flower2', 'flower3']])"
   ]
  },
  {
   "cell_type": "code",
   "execution_count": 93,
   "metadata": {},
   "outputs": [],
   "source": [
    "matrix_x_multiclass, vector_y_multiclass = normalization(matrix_x_multiclass, vector_y_multiclass)"
   ]
  },
  {
   "cell_type": "code",
   "execution_count": 86,
   "metadata": {},
   "outputs": [],
   "source": [
    "def gradient_descent_multiclass(matrix_x, vector_y, epochs, alpha):\n",
    "    \n",
    "    matrix_x = np.insert(matrix_x, 0, 1, axis =1)\n",
    "    \n",
    "    size = (vector_y.shape[1], matrix_x.shape[1])\n",
    "    w_matrix = np.ones(size, dtype=float)\n",
    "\n",
    "    mse = []\n",
    "    for k in range(w_matrix.shape[0]): \n",
    "        y_aux = w_matrix[k].dot(np.transpose(matrix_x))\n",
    "\n",
    "        for epoch in range(epochs):\n",
    "            somatorio = 0\n",
    "            for i in range(matrix_x.shape[0]):\n",
    "                _sum = 0\n",
    "                for j in range(w_matrix.shape[0]):\n",
    "                    _sum += np.exp(w_matrix[j].dot(matrix_x[i]))\n",
    "                \n",
    "                err = np.exp(y_aux[i])/_sum\n",
    "                somatorio += (vector_y[i][k] - err) * matrix_x[i]\n",
    "            \n",
    "            mse.append((-1/matrix_x.shape[0]) * somatorio)\n",
    "            w_matrix[k] = w_matrix[k] + (alpha/matrix_x.shape[0])*somatorio\n",
    "            y_aux = w_matrix[k].dot(np.transpose(matrix_x))\n",
    "\n",
    "\n",
    "    return w_matrix, mse"
   ]
  },
  {
   "cell_type": "code",
   "execution_count": 97,
   "metadata": {},
   "outputs": [],
   "source": [
    "w_gd_m, mse = gradient_descent_multiclass(matrix_x_multiclass, vector_y_multiclass, 10000, 0.01)"
   ]
  },
  {
   "cell_type": "code",
   "execution_count": 98,
   "metadata": {},
   "outputs": [
    {
     "data": {
      "text/plain": [
       "array([[-32.43258678, -37.07709576,  32.77808385, -48.05638174,\n",
       "        -46.1842269 ],\n",
       "       [-21.05575389,   3.25982491, -20.42469787,   8.55694086,\n",
       "          2.72640771],\n",
       "       [-45.15104259,  26.79114703,  -7.78928992,  34.28823158,\n",
       "         38.36118226]])"
      ]
     },
     "execution_count": 98,
     "metadata": {},
     "output_type": "execute_result"
    }
   ],
   "source": [
    "w_gd_m"
   ]
  },
  {
   "cell_type": "code",
   "execution_count": 92,
   "metadata": {},
   "outputs": [],
   "source": [
    "predictions_gd_m = predict_multiclass_logistic_regression(matrix_x_multiclass, w_gd_m)"
   ]
  },
  {
   "cell_type": "code",
   "execution_count": 89,
   "metadata": {},
   "outputs": [],
   "source": [
    "def stochastic_gradient_descent_multiclass(matrix_x, vector_y, epochs, alpha):\n",
    "    \n",
    "    matrix_x = np.insert(matrix_x, 0, 1, axis =1)\n",
    "\n",
    "    size = (vector_y.shape[1], matrix_x.shape[1])    \n",
    "    w_matrix = np.ones(size, dtype=float)\n",
    "    #y_chapeu = matrix_x.dot(w_matrix)\n",
    "    #data =np.append(matrix_x, np.split(vector_y, matrix_x.shape[0], axis=0), axis=1)\n",
    "\n",
    "    data =np.append(matrix_x, vector_y, axis=1)\n",
    "    \n",
    "    mse = []\n",
    "\n",
    "    for k in range(w_matrix.shape[0]):\n",
    "        y_aux = w_matrix[k].dot(np.transpose(matrix_x))\n",
    "\n",
    "        for epoch in range(epochs):\n",
    "            #somatorio = 0\n",
    "            for i in range(matrix_x.shape[0]):\n",
    "                _sum = 0\n",
    "                for j in range(w_matrix.shape[0]):\n",
    "                    _sum += np.exp(w_matrix[j].dot(matrix_x[i]))\n",
    "        \n",
    "                err = np.exp(y_aux[i])/_sum\n",
    "                \n",
    "                w_matrix[k] = w_matrix[k] + alpha * (vector_y[i][k] - err) * matrix_x[i]\n",
    "                #somatorio += (vector_y[i] - sigmoide(y_chapeu[i])) * matrix_x[i]\n",
    "\n",
    "            #mse.append((-1/matrix_x.shape[0]) * somatorio)        \n",
    "            data = np.random.permutation(data)\n",
    "            matrix_x = data[: ,0:matrix_x.shape[1]]\n",
    "            vector_y = data[:,matrix_x.shape[1]:]\n",
    "            y_aux = w_matrix[k].dot(np.transpose(matrix_x))\n",
    "            \n",
    "                \n",
    "    return w_matrix, mse"
   ]
  },
  {
   "cell_type": "code",
   "execution_count": 90,
   "metadata": {
    "scrolled": true
   },
   "outputs": [
    {
     "ename": "NameError",
     "evalue": "name 'matrix_x_multiclass' is not defined",
     "output_type": "error",
     "traceback": [
      "\u001b[1;31m---------------------------------------------------------------------------\u001b[0m",
      "\u001b[1;31mNameError\u001b[0m                                 Traceback (most recent call last)",
      "\u001b[1;32m<ipython-input-90-589cd07c5d9b>\u001b[0m in \u001b[0;36m<module>\u001b[1;34m\u001b[0m\n\u001b[1;32m----> 1\u001b[1;33m \u001b[0mw_gde_m\u001b[0m\u001b[1;33m,\u001b[0m \u001b[0mmse\u001b[0m \u001b[1;33m=\u001b[0m \u001b[0mstochastic_gradient_descent_multiclass\u001b[0m\u001b[1;33m(\u001b[0m\u001b[0mmatrix_x_multiclass\u001b[0m\u001b[1;33m,\u001b[0m \u001b[0mvector_y_multiclass\u001b[0m\u001b[1;33m,\u001b[0m \u001b[1;36m10000\u001b[0m\u001b[1;33m,\u001b[0m \u001b[1;36m0.0001\u001b[0m\u001b[1;33m)\u001b[0m\u001b[1;33m\u001b[0m\u001b[1;33m\u001b[0m\u001b[0m\n\u001b[0m",
      "\u001b[1;31mNameError\u001b[0m: name 'matrix_x_multiclass' is not defined"
     ]
    }
   ],
   "source": [
    "w_gde_m, mse = stochastic_gradient_descent_multiclass(matrix_x_multiclass, vector_y_multiclass, 10000, 0.0001)"
   ]
  },
  {
   "cell_type": "code",
   "execution_count": 91,
   "metadata": {},
   "outputs": [
    {
     "ename": "NameError",
     "evalue": "name 'w_gde_m' is not defined",
     "output_type": "error",
     "traceback": [
      "\u001b[1;31m---------------------------------------------------------------------------\u001b[0m",
      "\u001b[1;31mNameError\u001b[0m                                 Traceback (most recent call last)",
      "\u001b[1;32m<ipython-input-91-eded7a73c974>\u001b[0m in \u001b[0;36m<module>\u001b[1;34m\u001b[0m\n\u001b[1;32m----> 1\u001b[1;33m \u001b[0mw_gde_m\u001b[0m\u001b[1;33m\u001b[0m\u001b[1;33m\u001b[0m\u001b[0m\n\u001b[0m",
      "\u001b[1;31mNameError\u001b[0m: name 'w_gde_m' is not defined"
     ]
    }
   ],
   "source": [
    "w_gde_m"
   ]
  },
  {
   "cell_type": "code",
   "execution_count": 102,
   "metadata": {},
   "outputs": [],
   "source": [
    "predictions_gde_m = predict_multiclass_logistic_regression(matrix_x_multiclass, w_gde_m)"
   ]
  },
  {
   "cell_type": "code",
   "execution_count": 94,
   "metadata": {},
   "outputs": [
    {
     "name": "stdout",
     "output_type": "stream",
     "text": [
      "Predicted:  [1. 0. 0.] Actual:  [1. 0. 0.]\n",
      "Predicted:  [0. 0. 1.] Actual:  [0. 0. 1.]\n",
      "Predicted:  [0. 0. 1.] Actual:  [0. 1. 0.]\n",
      "Predicted:  [0. 0. 1.] Actual:  [0. 0. 1.]\n",
      "Predicted:  [1. 0. 0.] Actual:  [1. 0. 0.]\n",
      "Predicted:  [0. 0. 1.] Actual:  [0. 1. 0.]\n",
      "Predicted:  [0. 1. 0.] Actual:  [0. 1. 0.]\n",
      "Predicted:  [0. 0. 1.] Actual:  [0. 0. 1.]\n",
      "Predicted:  [0. 0. 1.] Actual:  [0. 0. 1.]\n",
      "Predicted:  [1. 0. 0.] Actual:  [1. 0. 0.]\n",
      "Predicted:  [0. 1. 0.] Actual:  [0. 1. 0.]\n",
      "Predicted:  [0. 0. 1.] Actual:  [0. 0. 1.]\n",
      "Predicted:  [0. 0. 1.] Actual:  [0. 1. 0.]\n",
      "Predicted:  [0. 0. 1.] Actual:  [0. 0. 1.]\n",
      "Predicted:  [1. 0. 0.] Actual:  [1. 0. 0.]\n",
      "Predicted:  [0. 0. 1.] Actual:  [0. 0. 1.]\n",
      "Predicted:  [0. 0. 1.] Actual:  [0. 1. 0.]\n",
      "Predicted:  [1. 0. 0.] Actual:  [1. 0. 0.]\n",
      "Predicted:  [1. 0. 0.] Actual:  [1. 0. 0.]\n",
      "Predicted:  [0. 0. 1.] Actual:  [0. 0. 1.]\n",
      "Predicted:  [1. 0. 0.] Actual:  [1. 0. 0.]\n",
      "Predicted:  [0. 0. 1.] Actual:  [0. 1. 0.]\n",
      "Predicted:  [0. 1. 0.] Actual:  [0. 1. 0.]\n",
      "Predicted:  [1. 0. 0.] Actual:  [1. 0. 0.]\n",
      "Predicted:  [0. 0. 1.] Actual:  [0. 0. 1.]\n",
      "Predicted:  [1. 0. 0.] Actual:  [1. 0. 0.]\n",
      "Predicted:  [1. 0. 0.] Actual:  [1. 0. 0.]\n",
      "Predicted:  [1. 0. 0.] Actual:  [1. 0. 0.]\n",
      "Predicted:  [0. 0. 1.] Actual:  [0. 1. 0.]\n",
      "Predicted:  [1. 0. 0.] Actual:  [1. 0. 0.]\n",
      "Predicted:  [1. 0. 0.] Actual:  [1. 0. 0.]\n",
      "Predicted:  [0. 0. 1.] Actual:  [0. 0. 1.]\n",
      "Predicted:  [0. 0. 1.] Actual:  [0. 1. 0.]\n",
      "Predicted:  [0. 0. 1.] Actual:  [0. 0. 1.]\n",
      "Predicted:  [1. 0. 0.] Actual:  [1. 0. 0.]\n",
      "Predicted:  [0. 0. 1.] Actual:  [0. 1. 0.]\n",
      "Predicted:  [0. 1. 0.] Actual:  [0. 1. 0.]\n",
      "Predicted:  [0. 0. 1.] Actual:  [0. 0. 1.]\n",
      "Predicted:  [0. 0. 1.] Actual:  [0. 0. 1.]\n",
      "Predicted:  [1. 0. 0.] Actual:  [1. 0. 0.]\n",
      "Predicted:  [0. 1. 0.] Actual:  [0. 1. 0.]\n",
      "Predicted:  [0. 0. 1.] Actual:  [0. 0. 1.]\n",
      "Predicted:  [0. 0. 1.] Actual:  [0. 1. 0.]\n",
      "Predicted:  [0. 0. 1.] Actual:  [0. 0. 1.]\n",
      "Predicted:  [1. 0. 0.] Actual:  [1. 0. 0.]\n",
      "Predicted:  [0. 0. 1.] Actual:  [0. 0. 1.]\n",
      "Predicted:  [0. 0. 1.] Actual:  [0. 1. 0.]\n",
      "Predicted:  [1. 0. 0.] Actual:  [1. 0. 0.]\n",
      "Predicted:  [1. 0. 0.] Actual:  [1. 0. 0.]\n",
      "Predicted:  [0. 0. 1.] Actual:  [0. 0. 1.]\n",
      "Predicted:  [1. 0. 0.] Actual:  [1. 0. 0.]\n",
      "Predicted:  [0. 0. 1.] Actual:  [0. 1. 0.]\n",
      "Predicted:  [0. 1. 0.] Actual:  [0. 1. 0.]\n",
      "Predicted:  [1. 0. 0.] Actual:  [1. 0. 0.]\n",
      "Predicted:  [0. 0. 1.] Actual:  [0. 0. 1.]\n",
      "Predicted:  [1. 0. 0.] Actual:  [1. 0. 0.]\n",
      "Predicted:  [1. 0. 0.] Actual:  [1. 0. 0.]\n",
      "Predicted:  [1. 0. 0.] Actual:  [1. 0. 0.]\n",
      "Predicted:  [0. 0. 1.] Actual:  [0. 1. 0.]\n",
      "Predicted:  [1. 0. 0.] Actual:  [1. 0. 0.]\n",
      "Predicted:  [1. 0. 0.] Actual:  [1. 0. 0.]\n",
      "Predicted:  [0. 0. 1.] Actual:  [0. 0. 1.]\n",
      "Predicted:  [0. 0. 1.] Actual:  [0. 1. 0.]\n",
      "Predicted:  [0. 0. 1.] Actual:  [0. 0. 1.]\n",
      "Predicted:  [1. 0. 0.] Actual:  [1. 0. 0.]\n",
      "Predicted:  [0. 0. 1.] Actual:  [0. 1. 0.]\n",
      "Predicted:  [0. 1. 0.] Actual:  [0. 1. 0.]\n",
      "Predicted:  [0. 0. 1.] Actual:  [0. 0. 1.]\n",
      "Predicted:  [0. 0. 1.] Actual:  [0. 0. 1.]\n",
      "Predicted:  [1. 0. 0.] Actual:  [1. 0. 0.]\n",
      "Predicted:  [0. 1. 0.] Actual:  [0. 1. 0.]\n",
      "Predicted:  [0. 0. 1.] Actual:  [0. 0. 1.]\n",
      "Predicted:  [0. 0. 1.] Actual:  [0. 1. 0.]\n",
      "Predicted:  [0. 0. 1.] Actual:  [0. 0. 1.]\n",
      "Predicted:  [1. 0. 0.] Actual:  [1. 0. 0.]\n",
      "Predicted:  [0. 0. 1.] Actual:  [0. 0. 1.]\n",
      "Predicted:  [0. 0. 1.] Actual:  [0. 1. 0.]\n",
      "Predicted:  [1. 0. 0.] Actual:  [1. 0. 0.]\n",
      "Predicted:  [1. 0. 0.] Actual:  [1. 0. 0.]\n",
      "Predicted:  [0. 0. 1.] Actual:  [0. 0. 1.]\n",
      "Predicted:  [1. 0. 0.] Actual:  [1. 0. 0.]\n",
      "Predicted:  [0. 0. 1.] Actual:  [0. 1. 0.]\n",
      "Predicted:  [0. 1. 0.] Actual:  [0. 1. 0.]\n",
      "Predicted:  [1. 0. 0.] Actual:  [1. 0. 0.]\n",
      "Predicted:  [0. 0. 1.] Actual:  [0. 0. 1.]\n",
      "Predicted:  [1. 0. 0.] Actual:  [1. 0. 0.]\n",
      "Predicted:  [1. 0. 0.] Actual:  [1. 0. 0.]\n",
      "Predicted:  [1. 0. 0.] Actual:  [1. 0. 0.]\n",
      "Predicted:  [0. 0. 1.] Actual:  [0. 1. 0.]\n",
      "Predicted:  [1. 0. 0.] Actual:  [1. 0. 0.]\n",
      "Predicted:  [1. 0. 0.] Actual:  [1. 0. 0.]\n",
      "Predicted:  [0. 0. 1.] Actual:  [0. 0. 1.]\n",
      "Predicted:  [0. 0. 1.] Actual:  [0. 1. 0.]\n",
      "Predicted:  [0. 0. 1.] Actual:  [0. 0. 1.]\n",
      "Predicted:  [1. 0. 0.] Actual:  [1. 0. 0.]\n",
      "Predicted:  [0. 0. 1.] Actual:  [0. 1. 0.]\n",
      "Predicted:  [0. 1. 0.] Actual:  [0. 1. 0.]\n",
      "Predicted:  [0. 0. 1.] Actual:  [0. 0. 1.]\n",
      "Predicted:  [0. 0. 1.] Actual:  [0. 0. 1.]\n",
      "Predicted:  [1. 0. 0.] Actual:  [1. 0. 0.]\n",
      "Predicted:  [0. 1. 0.] Actual:  [0. 1. 0.]\n",
      "Predicted:  [0. 0. 1.] Actual:  [0. 0. 1.]\n",
      "Predicted:  [0. 0. 1.] Actual:  [0. 1. 0.]\n",
      "Predicted:  [0. 0. 1.] Actual:  [0. 0. 1.]\n",
      "Predicted:  [1. 0. 0.] Actual:  [1. 0. 0.]\n",
      "Predicted:  [0. 0. 1.] Actual:  [0. 0. 1.]\n",
      "Predicted:  [0. 0. 1.] Actual:  [0. 1. 0.]\n",
      "Predicted:  [1. 0. 0.] Actual:  [1. 0. 0.]\n",
      "Predicted:  [1. 0. 0.] Actual:  [1. 0. 0.]\n",
      "Predicted:  [0. 0. 1.] Actual:  [0. 0. 1.]\n",
      "Predicted:  [1. 0. 0.] Actual:  [1. 0. 0.]\n",
      "Predicted:  [0. 0. 1.] Actual:  [0. 1. 0.]\n",
      "Predicted:  [0. 1. 0.] Actual:  [0. 1. 0.]\n",
      "Predicted:  [1. 0. 0.] Actual:  [1. 0. 0.]\n",
      "Predicted:  [0. 0. 1.] Actual:  [0. 0. 1.]\n",
      "Predicted:  [1. 0. 0.] Actual:  [1. 0. 0.]\n",
      "Predicted:  [1. 0. 0.] Actual:  [1. 0. 0.]\n",
      "Predicted:  [1. 0. 0.] Actual:  [1. 0. 0.]\n",
      "Predicted:  [0. 0. 1.] Actual:  [0. 1. 0.]\n",
      "Predicted:  [1. 0. 0.] Actual:  [1. 0. 0.]\n",
      "Predicted:  [1. 0. 0.] Actual:  [1. 0. 0.]\n",
      "Predicted:  [0. 0. 1.] Actual:  [0. 0. 1.]\n",
      "Predicted:  [0. 0. 1.] Actual:  [0. 1. 0.]\n",
      "Predicted:  [0. 0. 1.] Actual:  [0. 0. 1.]\n",
      "Predicted:  [1. 0. 0.] Actual:  [1. 0. 0.]\n",
      "Predicted:  [0. 0. 1.] Actual:  [0. 1. 0.]\n",
      "Predicted:  [0. 1. 0.] Actual:  [0. 1. 0.]\n",
      "Predicted:  [0. 0. 1.] Actual:  [0. 0. 1.]\n",
      "Predicted:  [0. 0. 1.] Actual:  [0. 0. 1.]\n",
      "Predicted:  [1. 0. 0.] Actual:  [1. 0. 0.]\n",
      "Predicted:  [0. 1. 0.] Actual:  [0. 1. 0.]\n",
      "Predicted:  [0. 0. 1.] Actual:  [0. 0. 1.]\n",
      "Predicted:  [0. 0. 1.] Actual:  [0. 1. 0.]\n",
      "Predicted:  [0. 0. 1.] Actual:  [0. 0. 1.]\n",
      "Predicted:  [1. 0. 0.] Actual:  [1. 0. 0.]\n",
      "Predicted:  [0. 0. 1.] Actual:  [0. 0. 1.]\n",
      "Predicted:  [0. 0. 1.] Actual:  [0. 1. 0.]\n",
      "Predicted:  [1. 0. 0.] Actual:  [1. 0. 0.]\n",
      "Predicted:  [1. 0. 0.] Actual:  [1. 0. 0.]\n",
      "Predicted:  [0. 0. 1.] Actual:  [0. 0. 1.]\n",
      "Predicted:  [1. 0. 0.] Actual:  [1. 0. 0.]\n",
      "Predicted:  [0. 0. 1.] Actual:  [0. 1. 0.]\n",
      "Predicted:  [0. 1. 0.] Actual:  [0. 1. 0.]\n",
      "Predicted:  [1. 0. 0.] Actual:  [1. 0. 0.]\n",
      "Predicted:  [0. 0. 1.] Actual:  [0. 0. 1.]\n",
      "Predicted:  [1. 0. 0.] Actual:  [1. 0. 0.]\n",
      "Predicted:  [1. 0. 0.] Actual:  [1. 0. 0.]\n",
      "Predicted:  [1. 0. 0.] Actual:  [1. 0. 0.]\n",
      "Predicted:  [0. 0. 1.] Actual:  [0. 1. 0.]\n",
      "Predicted:  [1. 0. 0.] Actual:  [1. 0. 0.]\n"
     ]
    },
    {
     "data": {
      "text/plain": [
       "[array([[ 0. , -0.2, -0.2],\n",
       "        [ 0. ,  0. ,  0.2],\n",
       "        [ 0. ,  0. ,  0.2]]), array([[ 0. , -0.2, -0.2],\n",
       "        [ 0. ,  0. ,  0.2],\n",
       "        [ 0. ,  0. ,  0.2]]), array([[ 0. , -0.2, -0.2],\n",
       "        [ 0. ,  0. ,  0.2],\n",
       "        [ 0. ,  0. ,  0.2]]), array([[ 0. , -0.2, -0.2],\n",
       "        [ 0. ,  0. ,  0.2],\n",
       "        [ 0. ,  0. ,  0.2]]), array([[ 0. , -0.2, -0.2],\n",
       "        [ 0. ,  0. ,  0.2],\n",
       "        [ 0. ,  0. ,  0.2]])]"
      ]
     },
     "execution_count": 94,
     "metadata": {},
     "output_type": "execute_result"
    }
   ],
   "source": [
    "kFoldCrossValidationMulticlass(matrix_x_multiclass, vector_y_multiclass, kParts, gradient_logistic_regression_multiclass, alpha, epochs)"
   ]
  },
  {
   "cell_type": "code",
   "execution_count": 95,
   "metadata": {},
   "outputs": [
    {
     "name": "stdout",
     "output_type": "stream",
     "text": [
      "Predicted:  [0. 0. 1.] Actual:  [0. 0. 1.]\n",
      "Predicted:  [0. 0. 1.] Actual:  [0. 0. 1.]\n",
      "Predicted:  [0. 0. 1.] Actual:  [0. 0. 1.]\n",
      "Predicted:  [0. 0. 1.] Actual:  [0. 1. 0.]\n",
      "Predicted:  [0. 0. 1.] Actual:  [0. 0. 1.]\n",
      "Predicted:  [0. 0. 1.] Actual:  [0. 1. 0.]\n",
      "Predicted:  [1. 0. 0.] Actual:  [1. 0. 0.]\n",
      "Predicted:  [1. 0. 0.] Actual:  [1. 0. 0.]\n",
      "Predicted:  [0. 0. 1.] Actual:  [0. 0. 1.]\n",
      "Predicted:  [0. 0. 1.] Actual:  [0. 1. 0.]\n",
      "Predicted:  [0. 0. 1.] Actual:  [0. 0. 1.]\n",
      "Predicted:  [0. 0. 1.] Actual:  [0. 1. 0.]\n",
      "Predicted:  [0. 0. 1.] Actual:  [0. 0. 1.]\n",
      "Predicted:  [0. 0. 1.] Actual:  [0. 0. 1.]\n",
      "Predicted:  [1. 0. 0.] Actual:  [1. 0. 0.]\n",
      "Predicted:  [0. 0. 1.] Actual:  [0. 1. 0.]\n",
      "Predicted:  [0. 1. 0.] Actual:  [0. 1. 0.]\n",
      "Predicted:  [1. 0. 0.] Actual:  [1. 0. 0.]\n",
      "Predicted:  [1. 0. 0.] Actual:  [1. 0. 0.]\n",
      "Predicted:  [1. 0. 0.] Actual:  [1. 0. 0.]\n",
      "Predicted:  [0. 1. 0.] Actual:  [0. 1. 0.]\n",
      "Predicted:  [0. 0. 1.] Actual:  [0. 0. 1.]\n",
      "Predicted:  [0. 0. 1.] Actual:  [0. 0. 1.]\n",
      "Predicted:  [1. 0. 0.] Actual:  [1. 0. 0.]\n",
      "Predicted:  [0. 0. 1.] Actual:  [0. 1. 0.]\n",
      "Predicted:  [0. 0. 1.] Actual:  [0. 0. 1.]\n",
      "Predicted:  [0. 1. 0.] Actual:  [0. 0. 1.]\n",
      "Predicted:  [0. 1. 0.] Actual:  [0. 1. 0.]\n",
      "Predicted:  [0. 0. 1.] Actual:  [0. 0. 1.]\n",
      "Predicted:  [1. 0. 0.] Actual:  [1. 0. 0.]\n",
      "Predicted:  [0. 0. 1.] Actual:  [0. 0. 1.]\n",
      "Predicted:  [0. 0. 1.] Actual:  [0. 0. 1.]\n",
      "Predicted:  [0. 0. 1.] Actual:  [0. 0. 1.]\n",
      "Predicted:  [0. 0. 1.] Actual:  [0. 1. 0.]\n",
      "Predicted:  [0. 0. 1.] Actual:  [0. 0. 1.]\n",
      "Predicted:  [0. 0. 1.] Actual:  [0. 1. 0.]\n",
      "Predicted:  [1. 0. 0.] Actual:  [1. 0. 0.]\n",
      "Predicted:  [1. 0. 0.] Actual:  [1. 0. 0.]\n",
      "Predicted:  [0. 0. 1.] Actual:  [0. 0. 1.]\n",
      "Predicted:  [0. 0. 1.] Actual:  [0. 1. 0.]\n",
      "Predicted:  [0. 0. 1.] Actual:  [0. 0. 1.]\n",
      "Predicted:  [0. 0. 1.] Actual:  [0. 1. 0.]\n",
      "Predicted:  [0. 0. 1.] Actual:  [0. 0. 1.]\n",
      "Predicted:  [0. 0. 1.] Actual:  [0. 0. 1.]\n",
      "Predicted:  [1. 0. 0.] Actual:  [1. 0. 0.]\n",
      "Predicted:  [0. 0. 1.] Actual:  [0. 1. 0.]\n",
      "Predicted:  [0. 1. 0.] Actual:  [0. 1. 0.]\n",
      "Predicted:  [1. 0. 0.] Actual:  [1. 0. 0.]\n",
      "Predicted:  [1. 0. 0.] Actual:  [1. 0. 0.]\n",
      "Predicted:  [1. 0. 0.] Actual:  [1. 0. 0.]\n",
      "Predicted:  [0. 1. 0.] Actual:  [0. 1. 0.]\n",
      "Predicted:  [0. 0. 1.] Actual:  [0. 0. 1.]\n",
      "Predicted:  [0. 0. 1.] Actual:  [0. 0. 1.]\n",
      "Predicted:  [1. 0. 0.] Actual:  [1. 0. 0.]\n",
      "Predicted:  [0. 0. 1.] Actual:  [0. 1. 0.]\n",
      "Predicted:  [0. 0. 1.] Actual:  [0. 0. 1.]\n",
      "Predicted:  [0. 1. 0.] Actual:  [0. 0. 1.]\n",
      "Predicted:  [0. 1. 0.] Actual:  [0. 1. 0.]\n",
      "Predicted:  [0. 0. 1.] Actual:  [0. 0. 1.]\n",
      "Predicted:  [1. 0. 0.] Actual:  [1. 0. 0.]\n",
      "Predicted:  [0. 0. 1.] Actual:  [0. 0. 1.]\n",
      "Predicted:  [0. 0. 1.] Actual:  [0. 0. 1.]\n",
      "Predicted:  [0. 0. 1.] Actual:  [0. 0. 1.]\n",
      "Predicted:  [0. 0. 1.] Actual:  [0. 1. 0.]\n",
      "Predicted:  [0. 0. 1.] Actual:  [0. 0. 1.]\n",
      "Predicted:  [0. 0. 1.] Actual:  [0. 1. 0.]\n",
      "Predicted:  [1. 0. 0.] Actual:  [1. 0. 0.]\n",
      "Predicted:  [1. 0. 0.] Actual:  [1. 0. 0.]\n",
      "Predicted:  [0. 0. 1.] Actual:  [0. 0. 1.]\n",
      "Predicted:  [0. 0. 1.] Actual:  [0. 1. 0.]\n",
      "Predicted:  [0. 0. 1.] Actual:  [0. 0. 1.]\n",
      "Predicted:  [0. 0. 1.] Actual:  [0. 1. 0.]\n",
      "Predicted:  [0. 0. 1.] Actual:  [0. 0. 1.]\n",
      "Predicted:  [0. 0. 1.] Actual:  [0. 0. 1.]\n",
      "Predicted:  [1. 0. 0.] Actual:  [1. 0. 0.]\n",
      "Predicted:  [0. 0. 1.] Actual:  [0. 1. 0.]\n",
      "Predicted:  [0. 1. 0.] Actual:  [0. 1. 0.]\n",
      "Predicted:  [1. 0. 0.] Actual:  [1. 0. 0.]\n",
      "Predicted:  [1. 0. 0.] Actual:  [1. 0. 0.]\n",
      "Predicted:  [1. 0. 0.] Actual:  [1. 0. 0.]\n",
      "Predicted:  [0. 1. 0.] Actual:  [0. 1. 0.]\n",
      "Predicted:  [0. 0. 1.] Actual:  [0. 0. 1.]\n",
      "Predicted:  [0. 0. 1.] Actual:  [0. 0. 1.]\n",
      "Predicted:  [1. 0. 0.] Actual:  [1. 0. 0.]\n",
      "Predicted:  [0. 0. 1.] Actual:  [0. 1. 0.]\n",
      "Predicted:  [0. 0. 1.] Actual:  [0. 0. 1.]\n",
      "Predicted:  [0. 1. 0.] Actual:  [0. 0. 1.]\n",
      "Predicted:  [0. 1. 0.] Actual:  [0. 1. 0.]\n",
      "Predicted:  [0. 0. 1.] Actual:  [0. 0. 1.]\n",
      "Predicted:  [1. 0. 0.] Actual:  [1. 0. 0.]\n",
      "Predicted:  [0. 0. 1.] Actual:  [0. 0. 1.]\n",
      "Predicted:  [0. 0. 1.] Actual:  [0. 0. 1.]\n",
      "Predicted:  [0. 0. 1.] Actual:  [0. 0. 1.]\n",
      "Predicted:  [0. 0. 1.] Actual:  [0. 1. 0.]\n",
      "Predicted:  [0. 0. 1.] Actual:  [0. 0. 1.]\n",
      "Predicted:  [0. 0. 1.] Actual:  [0. 1. 0.]\n",
      "Predicted:  [1. 0. 0.] Actual:  [1. 0. 0.]\n",
      "Predicted:  [1. 0. 0.] Actual:  [1. 0. 0.]\n",
      "Predicted:  [0. 0. 1.] Actual:  [0. 0. 1.]\n",
      "Predicted:  [0. 0. 1.] Actual:  [0. 1. 0.]\n",
      "Predicted:  [0. 0. 1.] Actual:  [0. 0. 1.]\n",
      "Predicted:  [0. 0. 1.] Actual:  [0. 1. 0.]\n",
      "Predicted:  [0. 0. 1.] Actual:  [0. 0. 1.]\n",
      "Predicted:  [0. 0. 1.] Actual:  [0. 0. 1.]\n",
      "Predicted:  [1. 0. 0.] Actual:  [1. 0. 0.]\n",
      "Predicted:  [0. 0. 1.] Actual:  [0. 1. 0.]\n",
      "Predicted:  [0. 1. 0.] Actual:  [0. 1. 0.]\n",
      "Predicted:  [1. 0. 0.] Actual:  [1. 0. 0.]\n",
      "Predicted:  [1. 0. 0.] Actual:  [1. 0. 0.]\n",
      "Predicted:  [1. 0. 0.] Actual:  [1. 0. 0.]\n",
      "Predicted:  [0. 1. 0.] Actual:  [0. 1. 0.]\n",
      "Predicted:  [0. 0. 1.] Actual:  [0. 0. 1.]\n",
      "Predicted:  [0. 0. 1.] Actual:  [0. 0. 1.]\n",
      "Predicted:  [1. 0. 0.] Actual:  [1. 0. 0.]\n",
      "Predicted:  [0. 0. 1.] Actual:  [0. 1. 0.]\n",
      "Predicted:  [0. 0. 1.] Actual:  [0. 0. 1.]\n",
      "Predicted:  [0. 1. 0.] Actual:  [0. 0. 1.]\n",
      "Predicted:  [0. 1. 0.] Actual:  [0. 1. 0.]\n",
      "Predicted:  [0. 0. 1.] Actual:  [0. 0. 1.]\n",
      "Predicted:  [1. 0. 0.] Actual:  [1. 0. 0.]\n",
      "Predicted:  [0. 0. 1.] Actual:  [0. 0. 1.]\n",
      "Predicted:  [0. 0. 1.] Actual:  [0. 0. 1.]\n",
      "Predicted:  [0. 0. 1.] Actual:  [0. 0. 1.]\n",
      "Predicted:  [0. 0. 1.] Actual:  [0. 1. 0.]\n",
      "Predicted:  [0. 0. 1.] Actual:  [0. 0. 1.]\n",
      "Predicted:  [0. 0. 1.] Actual:  [0. 1. 0.]\n",
      "Predicted:  [1. 0. 0.] Actual:  [1. 0. 0.]\n",
      "Predicted:  [1. 0. 0.] Actual:  [1. 0. 0.]\n",
      "Predicted:  [0. 0. 1.] Actual:  [0. 0. 1.]\n",
      "Predicted:  [0. 0. 1.] Actual:  [0. 1. 0.]\n",
      "Predicted:  [0. 0. 1.] Actual:  [0. 0. 1.]\n",
      "Predicted:  [0. 0. 1.] Actual:  [0. 1. 0.]\n",
      "Predicted:  [0. 0. 1.] Actual:  [0. 0. 1.]\n",
      "Predicted:  [0. 0. 1.] Actual:  [0. 0. 1.]\n",
      "Predicted:  [1. 0. 0.] Actual:  [1. 0. 0.]\n",
      "Predicted:  [0. 0. 1.] Actual:  [0. 1. 0.]\n",
      "Predicted:  [0. 1. 0.] Actual:  [0. 1. 0.]\n",
      "Predicted:  [1. 0. 0.] Actual:  [1. 0. 0.]\n",
      "Predicted:  [1. 0. 0.] Actual:  [1. 0. 0.]\n",
      "Predicted:  [1. 0. 0.] Actual:  [1. 0. 0.]\n",
      "Predicted:  [0. 1. 0.] Actual:  [0. 1. 0.]\n",
      "Predicted:  [0. 0. 1.] Actual:  [0. 0. 1.]\n",
      "Predicted:  [0. 0. 1.] Actual:  [0. 0. 1.]\n",
      "Predicted:  [1. 0. 0.] Actual:  [1. 0. 0.]\n",
      "Predicted:  [0. 0. 1.] Actual:  [0. 1. 0.]\n",
      "Predicted:  [0. 0. 1.] Actual:  [0. 0. 1.]\n",
      "Predicted:  [0. 1. 0.] Actual:  [0. 0. 1.]\n",
      "Predicted:  [0. 1. 0.] Actual:  [0. 1. 0.]\n",
      "Predicted:  [0. 0. 1.] Actual:  [0. 0. 1.]\n",
      "Predicted:  [1. 0. 0.] Actual:  [1. 0. 0.]\n"
     ]
    },
    {
     "data": {
      "text/plain": [
       "[array([[-0.2, -0.2,  0. ],\n",
       "        [ 0. ,  0. ,  0.2],\n",
       "        [ 0. ,  0. ,  0.2]]), array([[-0.2, -0.2,  0. ],\n",
       "        [ 0. ,  0. ,  0.2],\n",
       "        [ 0. ,  0. ,  0.2]]), array([[-0.2, -0.2,  0. ],\n",
       "        [ 0. ,  0. ,  0.2],\n",
       "        [ 0. ,  0. ,  0.2]]), array([[-0.2, -0.2,  0. ],\n",
       "        [ 0. ,  0. ,  0.2],\n",
       "        [ 0. ,  0. ,  0.2]]), array([[-0.2, -0.2,  0. ],\n",
       "        [ 0. ,  0. ,  0.2],\n",
       "        [ 0. ,  0. ,  0.2]])]"
      ]
     },
     "execution_count": 95,
     "metadata": {},
     "output_type": "execute_result"
    }
   ],
   "source": [
    "kFoldCrossValidationMulticlass(matrix_x_multiclass, vector_y_multiclass, kParts, stochastic_logistic_regression_multiclass, alpha, epochs)"
   ]
  },
  {
   "cell_type": "code",
   "execution_count": null,
   "metadata": {},
   "outputs": [],
   "source": []
  },
  {
   "cell_type": "code",
   "execution_count": null,
   "metadata": {},
   "outputs": [],
   "source": []
  },
  {
   "cell_type": "code",
   "execution_count": null,
   "metadata": {},
   "outputs": [],
   "source": []
  },
  {
   "cell_type": "code",
   "execution_count": null,
   "metadata": {},
   "outputs": [],
   "source": []
  },
  {
   "cell_type": "code",
   "execution_count": null,
   "metadata": {},
   "outputs": [],
   "source": []
  }
 ],
 "metadata": {
  "kernelspec": {
   "display_name": "Python 3",
   "language": "python",
   "name": "python3"
  },
  "language_info": {
   "codemirror_mode": {
    "name": "ipython",
    "version": 3
   },
   "file_extension": ".py",
   "mimetype": "text/x-python",
   "name": "python",
   "nbconvert_exporter": "python",
   "pygments_lexer": "ipython3",
   "version": "3.7.1"
  },
  "pycharm": {
   "stem_cell": {
    "cell_type": "raw",
    "metadata": {
     "collapsed": false
    },
    "source": []
   }
  }
 },
 "nbformat": 4,
 "nbformat_minor": 2
}
