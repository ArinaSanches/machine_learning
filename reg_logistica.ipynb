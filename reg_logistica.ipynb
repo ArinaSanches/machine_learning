{
 "cells": [
  {
   "cell_type": "code",
   "execution_count": 1,
   "metadata": {},
   "outputs": [],
   "source": [
    "import pandas as pd\n",
    "import numpy as np\n",
    "import matplotlib.pyplot as plt\n",
    "from pandas import DataFrame"
   ]
  },
  {
   "cell_type": "code",
   "execution_count": 2,
   "metadata": {},
   "outputs": [],
   "source": [
    "data_table = pd.read_csv('iris.csv', names =['sepal_length', 'sepal_width', 'petal_length', 'petal_width', 'flower'])"
   ]
  },
  {
   "cell_type": "code",
   "execution_count": 3,
   "metadata": {},
   "outputs": [],
   "source": [
    "iris_data_multiclass = pd.read_csv('iris_multiclasse.csv', names =['sepal_length', 'sepal_width', 'petal_length', 'petal_width', 'flower1','flower2','flower3'])"
   ]
  },
  {
   "cell_type": "code",
   "execution_count": 4,
   "metadata": {},
   "outputs": [],
   "source": [
    "def normalization(matrix, vector):\n",
    "    #Mean calculation\n",
    "    mVector = np.mean(vector, axis=0)\n",
    "    mMatrix = np.mean(matrix, axis=0)\n",
    "    \n",
    "    #Standard deviation\n",
    "    stdVector = np.std(vector, axis = 0)\n",
    "    stdMatrix = np.std(matrix, axis = 0)\n",
    "     \n",
    "    #Normalization of data\n",
    "    vector = (vector - mVector)/stdVector\n",
    "    matrix = (matrix - mMatrix)/stdMatrix\n",
    "    \n",
    "    return matrix, vector"
   ]
  },
  {
   "cell_type": "code",
   "execution_count": 5,
   "metadata": {},
   "outputs": [],
   "source": [
    "def predict_logistic_regression_binary(matrix_x, w):\n",
    "    \n",
    "    predictions = []\n",
    "    matrix_x = np.insert(matrix_x, 0, 1, axis =1)\n",
    "    \n",
    "    for i in range(matrix_x.shape[0]):\n",
    "        predictions.append(round(sigmoide(matrix_x[i].dot(w))))\n",
    "   \n",
    "    return predictions"
   ]
  },
  {
   "cell_type": "code",
   "execution_count": 6,
   "metadata": {},
   "outputs": [],
   "source": [
    "def predict_multiclass_logistic_regression(matrix_x_multiclass, w):\n",
    "    \n",
    "    matrix_x_multiclass = np.insert(matrix_x_multiclass, 0, 1, axis =1)\n",
    "    \n",
    "    size = (matrix_x_multiclass.shape[0], w.shape[0])\n",
    "    predictions = np.ones(size, dtype=float)\n",
    "    \n",
    "    for k in range(w.shape[0]):   \n",
    "        for i in range(matrix_x_multiclass.shape[0]):\n",
    "            num = np.exp(w[k].dot(matrix_x_multiclass[i]))\n",
    "            sum_ = 0\n",
    "            for j in range(w.shape[0]):\n",
    "                sum_ = sum_ + np.exp(w[j].dot(matrix_x_multiclass[i]))\n",
    "            predictions[i][k] = num/sum_\n",
    "\n",
    "    for i in range(predictions.shape[0]):\n",
    "        index = np.argmax(predictions[i], axis=0)\n",
    "        for j in range(len(predictions[i])):\n",
    "            if(j == index):\n",
    "                predictions[i][index] = 1.0\n",
    "            else:\n",
    "                predictions[i][j] = 0.0\n",
    "    \n",
    "    return predictions"
   ]
  },
  {
   "cell_type": "code",
   "execution_count": 7,
   "metadata": {},
   "outputs": [],
   "source": [
    "def plot_cost(mse):\n",
    "    plt.plot(list(range(0, len(mse))), [item[0] for item in mse])\n",
    "    plt.show()"
   ]
  },
  {
   "cell_type": "markdown",
   "metadata": {},
   "source": [
    "## Binary logistic regression"
   ]
  },
  {
   "cell_type": "code",
   "execution_count": 8,
   "metadata": {},
   "outputs": [],
   "source": [
    "matrix_x = np.array(data_table[['sepal_length', 'sepal_width', 'petal_length', 'petal_width']])\n",
    "vector_y = np.array(data_table['flower'])"
   ]
  },
  {
   "cell_type": "code",
   "execution_count": 9,
   "metadata": {},
   "outputs": [],
   "source": [
    "matrix_x, vector_y = normalization(matrix_x, vector_y)"
   ]
  },
  {
   "cell_type": "code",
   "execution_count": 10,
   "metadata": {},
   "outputs": [],
   "source": [
    "def sigmoide(z):\n",
    "    return 1 / (1 + np.exp(-z))"
   ]
  },
  {
   "cell_type": "code",
   "execution_count": 11,
   "metadata": {},
   "outputs": [],
   "source": [
    "def gradient_descent(matrix_x, vector_y, epochs, alpha):\n",
    "    matrix_x = np.insert(matrix_x, 0, 1, axis =1)\n",
    "    w_matrix = np.ones((matrix_x.shape[1],), dtype=float)\n",
    "    y_predicted = matrix_x.dot(w_matrix)\n",
    "    mse = []\n",
    "    for epoch in range(epochs):\n",
    "        somatorio = 0\n",
    "        for i in range(matrix_x.shape[0]):\n",
    "            somatorio += (vector_y[i] - sigmoide(y_predicted[i])) * matrix_x[i]\n",
    "\n",
    "        mse.append((-1/matrix_x.shape[0]) * somatorio)\n",
    "        w_matrix = w_matrix + (alpha/matrix_x.shape[0])*somatorio\n",
    "        y_predicted = matrix_x.dot(w_matrix)\n",
    "\n",
    "    return w_matrix, mse"
   ]
  },
  {
   "cell_type": "code",
   "execution_count": 12,
   "metadata": {},
   "outputs": [],
   "source": [
    "w_gd, mse = gradient_descent(matrix_x, vector_y, 10000, 0.001)"
   ]
  },
  {
   "cell_type": "code",
   "execution_count": 13,
   "metadata": {},
   "outputs": [
    {
     "data": {
      "text/plain": [
       "array([-3.91003605,  4.57163632, -2.83945175,  6.0195785 ,  5.98391617])"
      ]
     },
     "execution_count": 13,
     "metadata": {},
     "output_type": "execute_result"
    }
   ],
   "source": [
    "w_gd"
   ]
  },
  {
   "cell_type": "code",
   "execution_count": 14,
   "metadata": {},
   "outputs": [
    {
     "data": {
      "image/png": "[encoded data removed]",
      "text/plain": [
       "<Figure size 432x288 with 1 Axes>"
      ]
     },
     "metadata": {
      "needs_background": "light"
     },
     "output_type": "display_data"
    }
   ],
   "source": [
    "plot_cost(mse)"
   ]
  },
  {
   "cell_type": "code",
   "execution_count": 15,
   "metadata": {},
   "outputs": [],
   "source": [
    "predctions_gd = predict_logistic_regression_binary(matrix_x, w_gd)"
   ]
  },
  {
   "cell_type": "code",
   "execution_count": 16,
   "metadata": {},
   "outputs": [],
   "source": [
    "def stochastic_gradient_descent(matrix_x, vector_y, epochs, alpha):\n",
    "    matrix_x = np.insert(matrix_x, 0, 1, axis =1)\n",
    "    w_matrix = np.ones((matrix_x.shape[1],), dtype=float)\n",
    "    y_predicted = matrix_x.dot(w_matrix)\n",
    "    data =np.append(matrix_x, np.split(vector_y, matrix_x.shape[0], axis=0), axis=1)\n",
    "    mse = []\n",
    "\n",
    "    for epoch in range(epochs):\n",
    "        erro = 0\n",
    "        somatorio = 0\n",
    "        for i in range(matrix_x.shape[0]):\n",
    "            w_matrix  = w_matrix + alpha * (vector_y[i] - sigmoide(y_predicted[i])) * matrix_x[i]\n",
    "            somatorio += (vector_y[i] - sigmoide(y_predicted[i])) * matrix_x[i]\n",
    "        \n",
    "        mse.append((-1/matrix_x.shape[0]) * somatorio)        \n",
    "        data = np.random.permutation(data)\n",
    "        matrix_x = data[: ,0:matrix_x.shape[1]]\n",
    "        vector_y = data[:,matrix_x.shape[1]]\n",
    "        \n",
    "        y_predicted = matrix_x.dot(w_matrix)  \n",
    "    \n",
    "    return w_matrix, mse"
   ]
  },
  {
   "cell_type": "code",
   "execution_count": 17,
   "metadata": {},
   "outputs": [],
   "source": [
    "w_gde, mse = stochastic_gradient_descent(matrix_x, vector_y, 10000, 0.001)"
   ]
  },
  {
   "cell_type": "code",
   "execution_count": 18,
   "metadata": {},
   "outputs": [
    {
     "data": {
      "text/plain": [
       "array([-498.47703627,  364.70980605, -342.06964503,  486.27425106,\n",
       "        481.44881975])"
      ]
     },
     "execution_count": 18,
     "metadata": {},
     "output_type": "execute_result"
    }
   ],
   "source": [
    "w_gde"
   ]
  },
  {
   "cell_type": "code",
   "execution_count": 19,
   "metadata": {},
   "outputs": [],
   "source": [
    "predctions_gde = predict_logistic_regression_binary(matrix_x, w_gd)"
   ]
  },
  {
   "cell_type": "markdown",
   "metadata": {},
   "source": [
    "## Multiclass logistic regression"
   ]
  },
  {
   "cell_type": "code",
   "execution_count": 20,
   "metadata": {},
   "outputs": [],
   "source": [
    "matrix_x_multiclass = np.array(iris_data_multiclass[['sepal_length', 'sepal_width', 'petal_length', 'petal_width']])\n",
    "vector_y_multiclass = np.array(iris_data_multiclass[['flower1', 'flower2', 'flower3']])"
   ]
  },
  {
   "cell_type": "code",
   "execution_count": 21,
   "metadata": {},
   "outputs": [],
   "source": [
    "matrix_x_multiclass, vector_y_multiclass = normalization(matrix_x_multiclass, vector_y_multiclass)"
   ]
  },
  {
   "cell_type": "code",
   "execution_count": 22,
   "metadata": {},
   "outputs": [],
   "source": [
    "def gradient_descent_multiclasse(matrix_x, vector_y, epochs, alpha):\n",
    "    \n",
    "    matrix_x = np.insert(matrix_x, 0, 1, axis =1)\n",
    "    \n",
    "    size = (vector_y.shape[1], matrix_x.shape[1])\n",
    "    w_matrix = np.ones(size, dtype=float)\n",
    "\n",
    "    mse = []\n",
    "    for k in range(w_matrix.shape[0]):  \n",
    "        for epoch in range(epochs):\n",
    "            somatorio = 0\n",
    "            for i in range(matrix_x.shape[0]):\n",
    "                _sum = 0\n",
    "                for j in range(w_matrix.shape[0]):\n",
    "                    _sum += np.exp(w_matrix[j].dot(matrix_x[i]))\n",
    "                \n",
    "                err = np.exp(w_matrix[k].dot(matrix_x[i]))/_sum\n",
    "                somatorio += (vector_y[i][k] - err) * matrix_x[i]\n",
    "            \n",
    "            mse.append((-1/matrix_x.shape[0]) * somatorio)\n",
    "            w_matrix[k] = w_matrix[k] + (alpha/matrix_x.shape[0])*somatorio\n",
    "\n",
    "    return w_matrix, mse"
   ]
  },
  {
   "cell_type": "code",
   "execution_count": 23,
   "metadata": {},
   "outputs": [],
   "source": [
    "w_gd_m, mse = gradient_descent_multiclasse(matrix_x_multiclass, vector_y_multiclass, 10000, 0.01)"
   ]
  },
  {
   "cell_type": "code",
   "execution_count": 24,
   "metadata": {},
   "outputs": [
    {
     "data": {
      "text/plain": [
       "array([[-32.43258678, -37.07709576,  32.77808385, -48.05638174,\n",
       "        -46.1842269 ],\n",
       "       [-21.05575389,   3.25982491, -20.42469787,   8.55694086,\n",
       "          2.72640771],\n",
       "       [-45.15104259,  26.79114703,  -7.78928992,  34.28823158,\n",
       "         38.36118226]])"
      ]
     },
     "execution_count": 24,
     "metadata": {},
     "output_type": "execute_result"
    }
   ],
   "source": [
    "w_gd_m"
   ]
  },
  {
   "cell_type": "code",
   "execution_count": 25,
   "metadata": {},
   "outputs": [],
   "source": [
    "predictions_gd_m = predict_multiclass_logistic_regression(matrix_x_multiclass, w_gd_m)"
   ]
  },
  {
   "cell_type": "code",
   "execution_count": 26,
   "metadata": {},
   "outputs": [],
   "source": [
    "def stochastic_gradient_descent_multiclass(matrix_x, vector_y, epochs, alpha):\n",
    "    \n",
    "    matrix_x = np.insert(matrix_x, 0, 1, axis =1)\n",
    "\n",
    "    size = (vector_y.shape[1], matrix_x.shape[1])    \n",
    "    w_matrix = np.ones(size, dtype=float)\n",
    "    #y_chapeu = matrix_x.dot(w_matrix)\n",
    "    #data =np.append(matrix_x, np.split(vector_y, matrix_x.shape[0], axis=0), axis=1)\n",
    "\n",
    "    data =np.append(matrix_x, vector_y, axis=1)\n",
    "    \n",
    "    mse = []\n",
    "\n",
    "    for k in range(w_matrix.shape[0]):\n",
    "        for epoch in range(epochs):\n",
    "            #somatorio = 0\n",
    "            for i in range(matrix_x.shape[0]):\n",
    "                _sum = 0\n",
    "                for j in range(w_matrix.shape[0]):\n",
    "                    _sum += np.exp(w_matrix[j].dot(matrix_x[i]))\n",
    "        \n",
    "                err = np.exp(w_matrix[k].dot(matrix_x[i]))/_sum\n",
    "                \n",
    "                w_matrix[k] = w_matrix[k] + alpha * (vector_y[i][k] - err) * matrix_x[i]\n",
    "                #somatorio += (vector_y[i] - sigmoide(y_chapeu[i])) * matrix_x[i]\n",
    "\n",
    "            #mse.append((-1/matrix_x.shape[0]) * somatorio)        \n",
    "            data = np.random.permutation(data)\n",
    "            matrix_x = data[: ,0:matrix_x.shape[1]]\n",
    "            vector_y = data[:,matrix_x.shape[1]:]\n",
    "                \n",
    "    return w_matrix, mse"
   ]
  },
  {
   "cell_type": "code",
   "execution_count": 27,
   "metadata": {
    "scrolled": true
   },
   "outputs": [],
   "source": [
    "w_gde_m, mse = stochastic_gradient_descent_multiclass(matrix_x_multiclass, vector_y_multiclass, 10000, 0.0001)"
   ]
  },
  {
   "cell_type": "code",
   "execution_count": 28,
   "metadata": {},
   "outputs": [
    {
     "data": {
      "text/plain": [
       "array([[-49.09905644, -56.03708188,  48.5186733 , -72.44134167,\n",
       "        -69.63948373],\n",
       "       [-31.74323999,   4.43014485, -30.74180019,  12.2314027 ,\n",
       "          3.57584481],\n",
       "       [-68.26583145,  39.6378849 , -12.1395466 ,  50.87375559,\n",
       "         56.98500333]])"
      ]
     },
     "execution_count": 28,
     "metadata": {},
     "output_type": "execute_result"
    }
   ],
   "source": [
    "w_gde_m"
   ]
  },
  {
   "cell_type": "code",
   "execution_count": 29,
   "metadata": {},
   "outputs": [],
   "source": [
    "predictions_gde_m = predict_multiclass_logistic_regression(matrix_x_multiclass, w_gde_m)"
   ]
  },
  {
   "cell_type": "code",
   "execution_count": null,
   "metadata": {},
   "outputs": [],
   "source": []
  },
  {
   "cell_type": "code",
   "execution_count": null,
   "metadata": {},
   "outputs": [],
   "source": []
  },
  {
   "cell_type": "code",
   "execution_count": null,
   "metadata": {},
   "outputs": [],
   "source": []
  },
  {
   "cell_type": "code",
   "execution_count": null,
   "metadata": {},
   "outputs": [],
   "source": []
  },
  {
   "cell_type": "code",
   "execution_count": null,
   "metadata": {},
   "outputs": [],
   "source": []
  },
  {
   "cell_type": "code",
   "execution_count": null,
   "metadata": {},
   "outputs": [],
   "source": []
  },
  {
   "cell_type": "code",
   "execution_count": null,
   "metadata": {},
   "outputs": [],
   "source": []
  },
  {
   "cell_type": "code",
   "execution_count": null,
   "metadata": {},
   "outputs": [],
   "source": []
  },
  {
   "cell_type": "code",
   "execution_count": null,
   "metadata": {},
   "outputs": [],
   "source": []
  },
  {
   "cell_type": "code",
   "execution_count": null,
   "metadata": {},
   "outputs": [],
   "source": []
  },
  {
   "cell_type": "code",
   "execution_count": null,
   "metadata": {},
   "outputs": [],
   "source": []
  }
 ],
 "metadata": {
  "kernelspec": {
   "display_name": "Python 3",
   "language": "python",
   "name": "python3"
  },
  "language_info": {
   "codemirror_mode": {
    "name": "ipython",
    "version": 3
   },
   "file_extension": ".py",
   "mimetype": "text/x-python",
   "name": "python",
   "nbconvert_exporter": "python",
   "pygments_lexer": "ipython3",
   "version": "3.7.1"
  },
  "pycharm": {
   "stem_cell": {
    "cell_type": "raw",
    "metadata": {
     "collapsed": false
    },
    "source": []
   }
  }
 },
 "nbformat": 4,
 "nbformat_minor": 2
}
