{
 "cells": [
  {
   "cell_type": "code",
   "execution_count": 1,
   "metadata": {},
   "outputs": [],
   "source": [
    "import pandas as pd\n",
    "import numpy as np\n",
    "import matplotlib.pyplot as plt"
   ]
  },
  {
   "cell_type": "code",
   "execution_count": 2,
   "metadata": {},
   "outputs": [],
   "source": [
    "data_table = pd.DataFrame({'Peso': np.array([40.0, 93.5, 35.5, 30.0, 52.0, 17.0, 38.5,  8.5, 33.0,  9.5, 21.0, 79.0]) / 2.205,\n",
    "                            'Altura': np.array([42.8, 63.5, 37.5, 39.5, 45.5, 38.5, 43.0, 22.5, 37.0, 23.5, 33.0, 58.0]) / 39.37,\n",
    "                            'Cateter': [37, 50, 34, 36, 43, 28, 37, 20, 34, 30, 38, 47]},\n",
    "                            dtype='float')"
   ]
  },
  {
   "cell_type": "code",
   "execution_count": 3,
   "metadata": {},
   "outputs": [
    {
     "data": {
      "text/html": [
       "<div>\n",
       "<style scoped>\n",
       "    .dataframe tbody tr th:only-of-type {\n",
       "        vertical-align: middle;\n",
       "    }\n",
       "\n",
       "    .dataframe tbody tr th {\n",
       "        vertical-align: top;\n",
       "    }\n",
       "\n",
       "    .dataframe thead th {\n",
       "        text-align: right;\n",
       "    }\n",
       "</style>\n",
       "<table border=\"1\" class=\"dataframe\">\n",
       "  <thead>\n",
       "    <tr style=\"text-align: right;\">\n",
       "      <th></th>\n",
       "      <th>Peso</th>\n",
       "      <th>Altura</th>\n",
       "      <th>Cateter</th>\n",
       "    </tr>\n",
       "  </thead>\n",
       "  <tbody>\n",
       "    <tr>\n",
       "      <th>0</th>\n",
       "      <td>18.140590</td>\n",
       "      <td>1.087122</td>\n",
       "      <td>37.0</td>\n",
       "    </tr>\n",
       "    <tr>\n",
       "      <th>1</th>\n",
       "      <td>42.403628</td>\n",
       "      <td>1.612903</td>\n",
       "      <td>50.0</td>\n",
       "    </tr>\n",
       "    <tr>\n",
       "      <th>2</th>\n",
       "      <td>16.099773</td>\n",
       "      <td>0.952502</td>\n",
       "      <td>34.0</td>\n",
       "    </tr>\n",
       "    <tr>\n",
       "      <th>3</th>\n",
       "      <td>13.605442</td>\n",
       "      <td>1.003302</td>\n",
       "      <td>36.0</td>\n",
       "    </tr>\n",
       "    <tr>\n",
       "      <th>4</th>\n",
       "      <td>23.582766</td>\n",
       "      <td>1.155702</td>\n",
       "      <td>43.0</td>\n",
       "    </tr>\n",
       "    <tr>\n",
       "      <th>5</th>\n",
       "      <td>7.709751</td>\n",
       "      <td>0.977902</td>\n",
       "      <td>28.0</td>\n",
       "    </tr>\n",
       "    <tr>\n",
       "      <th>6</th>\n",
       "      <td>17.460317</td>\n",
       "      <td>1.092202</td>\n",
       "      <td>37.0</td>\n",
       "    </tr>\n",
       "    <tr>\n",
       "      <th>7</th>\n",
       "      <td>3.854875</td>\n",
       "      <td>0.571501</td>\n",
       "      <td>20.0</td>\n",
       "    </tr>\n",
       "    <tr>\n",
       "      <th>8</th>\n",
       "      <td>14.965986</td>\n",
       "      <td>0.939802</td>\n",
       "      <td>34.0</td>\n",
       "    </tr>\n",
       "    <tr>\n",
       "      <th>9</th>\n",
       "      <td>4.308390</td>\n",
       "      <td>0.596901</td>\n",
       "      <td>30.0</td>\n",
       "    </tr>\n",
       "    <tr>\n",
       "      <th>10</th>\n",
       "      <td>9.523810</td>\n",
       "      <td>0.838202</td>\n",
       "      <td>38.0</td>\n",
       "    </tr>\n",
       "    <tr>\n",
       "      <th>11</th>\n",
       "      <td>35.827664</td>\n",
       "      <td>1.473203</td>\n",
       "      <td>47.0</td>\n",
       "    </tr>\n",
       "  </tbody>\n",
       "</table>\n",
       "</div>"
      ],
      "text/plain": [
       "         Peso    Altura  Cateter\n",
       "0   18.140590  1.087122     37.0\n",
       "1   42.403628  1.612903     50.0\n",
       "2   16.099773  0.952502     34.0\n",
       "3   13.605442  1.003302     36.0\n",
       "4   23.582766  1.155702     43.0\n",
       "5    7.709751  0.977902     28.0\n",
       "6   17.460317  1.092202     37.0\n",
       "7    3.854875  0.571501     20.0\n",
       "8   14.965986  0.939802     34.0\n",
       "9    4.308390  0.596901     30.0\n",
       "10   9.523810  0.838202     38.0\n",
       "11  35.827664  1.473203     47.0"
      ]
     },
     "execution_count": 3,
     "metadata": {},
     "output_type": "execute_result"
    }
   ],
   "source": [
    "data_table"
   ]
  },
  {
   "cell_type": "code",
   "execution_count": 4,
   "metadata": {},
   "outputs": [],
   "source": [
    "def normalization(matrix, vector):\n",
    "    #Mean calculation\n",
    "    mVector = np.mean(vector, axis=0)\n",
    "    mMatrix = np.mean(matrix, axis=0)\n",
    "    \n",
    "    #Standard deviation\n",
    "    stdVector = np.std(vector, axis = 0)\n",
    "    stdMatrix = np.std(matrix, axis = 0)\n",
    "     \n",
    "    #Normalization of data\n",
    "    vector = (vector - mVector)/stdVector\n",
    "    matrix = (matrix - mMatrix)/stdMatrix\n",
    "    \n",
    "    return matrix, vector"
   ]
  },
  {
   "cell_type": "code",
   "execution_count": 5,
   "metadata": {},
   "outputs": [],
   "source": [
    "matrix_x = np.array(data_table[['Peso', 'Altura']])\n",
    "vetor_y = np.array(data_table['Cateter'])"
   ]
  },
  {
   "cell_type": "code",
   "execution_count": 6,
   "metadata": {},
   "outputs": [],
   "source": [
    "matrix_x, vetor_y = normalization(matrix_x, vetor_y)"
   ]
  },
  {
   "cell_type": "code",
   "execution_count": 7,
   "metadata": {},
   "outputs": [],
   "source": [
    "def gradienteDescendente(matrix_x, vetor_y, epocas, alfa):\n",
    "    \n",
    "    matrix_x = np.insert(matrix_x, 0, 1, axis =1)\n",
    "\n",
    "    w_matrix = np.ones((matrix_x.shape[1],), dtype=float)\n",
    "    y_chapeu = matrix_x.dot(w_matrix)\n",
    "    mse = []\n",
    "    for epoca in range(epocas):\n",
    "        somatorio = 0\n",
    "        for i in range(matrix_x.shape[0]):\n",
    "            somatorio += (vetor_y[i] - y_chapeu[i]) * matrix_x[i]\n",
    "\n",
    "        mse.append((-1/matrix_x.shape[0]) * somatorio)\n",
    "        w_matrix = w_matrix + (alfa/matrix_x.shape[0])*somatorio\n",
    "        y_chapeu = matrix_x.dot(w_matrix)\n",
    "\n",
    "    return w_matrix, mse      "
   ]
  },
  {
   "cell_type": "code",
   "execution_count": 8,
   "metadata": {},
   "outputs": [],
   "source": [
    "w, mse = gradienteDescendente(matrix_x, vetor_y, 10000, 0.001)"
   ]
  },
  {
   "cell_type": "code",
   "execution_count": 9,
   "metadata": {},
   "outputs": [
    {
     "data": {
      "text/plain": [
       "array([4.51733460e-05, 5.06796889e-01, 4.09680295e-01])"
      ]
     },
     "execution_count": 9,
     "metadata": {},
     "output_type": "execute_result"
    }
   ],
   "source": [
    "w"
   ]
  },
  {
   "cell_type": "code",
   "execution_count": 10,
   "metadata": {},
   "outputs": [
    {
     "data": {
      "image/png": "[encoded data removed]",
      "text/plain": [
       "<Figure size 432x288 with 1 Axes>"
      ]
     },
     "metadata": {
      "needs_background": "light"
     },
     "output_type": "display_data"
    }
   ],
   "source": [
    "plt.plot(list(range(0, len(mse))), [item[0] for item in mse])\n",
    "plt.show()"
   ]
  },
  {
   "cell_type": "code",
   "execution_count": 11,
   "metadata": {},
   "outputs": [
    {
     "data": {
      "text/plain": [
       "array([[ 0.07515517,  0.21366613],\n",
       "       [ 2.21958262,  2.02508821],\n",
       "       [-0.10521723, -0.25012793],\n",
       "       [-0.32567239, -0.0751113 ],\n",
       "       [ 0.55614824,  0.44993858],\n",
       "       [-0.84674822, -0.16261962],\n",
       "       [ 0.01503103,  0.23116779],\n",
       "       [-1.18745165, -1.56275262],\n",
       "       [-0.20542413, -0.29388208],\n",
       "       [-1.14736889, -1.47524431],\n",
       "       [-0.6864172 , -0.64391534],\n",
       "       [ 1.63838266,  1.54379249]])"
      ]
     },
     "execution_count": 11,
     "metadata": {},
     "output_type": "execute_result"
    }
   ],
   "source": [
    "matrix_x"
   ]
  },
  {
   "cell_type": "code",
   "execution_count": 12,
   "metadata": {},
   "outputs": [],
   "source": [
    "def gradiente_estocastico(matrix_x, vetor_y, epocas, alfa):\n",
    "    \n",
    "    matrix_x = np.insert(matrix_x, 0, 1, axis =1)\n",
    "\n",
    "    w_matrix = np.ones((matrix_x.shape[1],), dtype=float)\n",
    "    y_chapeu = matrix_x.dot(w_matrix)\n",
    "    data =np.append(matrix_x, np.split(vetor_y, matrix_x.shape[0], axis=0), axis=1)\n",
    "    mse = []\n",
    "\n",
    "    for epoca in range(epocas):\n",
    "        erro = 0\n",
    "        somatorio = 0\n",
    "        for i in range(matrix_x.shape[0]):\n",
    "            w_matrix  = w_matrix + alfa * (vetor_y[i] - y_chapeu[i]) * matrix_x[i]\n",
    "            somatorio += (vetor_y[i] - y_chapeu[i]) * matrix_x[i]\n",
    "        \n",
    "        mse.append((-1/matrix_x.shape[0]) * somatorio)        \n",
    "        data = np.random.permutation(data)\n",
    "        matrix_x = data[: ,0:3]\n",
    "        vetor_y = data[:,3]\n",
    "        \n",
    "        y_chapeu = matrix_x.dot(w_matrix)  \n",
    "    \n",
    "    return w_matrix, mse\n",
    "    "
   ]
  },
  {
   "cell_type": "code",
   "execution_count": 13,
   "metadata": {},
   "outputs": [],
   "source": [
    "w, mse = gradiente_estocastico(matrix_x, vetor_y, 12000, 0.001)"
   ]
  },
  {
   "cell_type": "code",
   "execution_count": 14,
   "metadata": {},
   "outputs": [
    {
     "data": {
      "text/plain": [
       "array([3.67869797e-16, 6.08338901e-01, 3.08138280e-01])"
      ]
     },
     "execution_count": 14,
     "metadata": {},
     "output_type": "execute_result"
    }
   ],
   "source": [
    "w"
   ]
  },
  {
   "cell_type": "code",
   "execution_count": 16,
   "metadata": {},
   "outputs": [
    {
     "data": {
      "image/png": "[encoded data removed]",
      "text/plain": [
       "<Figure size 432x288 with 1 Axes>"
      ]
     },
     "metadata": {
      "needs_background": "light"
     },
     "output_type": "display_data"
    }
   ],
   "source": [
    "plt.plot(list(range(0, len(mse))), [item[0] for item in mse])\n",
    "plt.show()"
   ]
  },
  {
   "cell_type": "code",
   "execution_count": 17,
   "metadata": {},
   "outputs": [],
   "source": [
    "def regressao_analitica(matrix_x, vetor_y):\n",
    "    a = np.linalg.inv(np.transpose(matrix_x).dot(matrix_x)).dot(np.transpose(matrix_x))\n",
    "    w = np.linalg.inv(np.transpose(matrix_x).dot(matrix_x)).dot(np.transpose(matrix_x)).dot(vetor_y)\n",
    "    #custo = 1/2 * ((np.linalg.inv(vetor_y - matrix_x.dot(w))).dot((vetor_y - matrix_x.dot(w)))) erro não sei porque\n",
    "    y_chapeu = matrix_x.dot(w)\n",
    "\n",
    "    custo = 1/2 * (np.transpose((vetor_y- y_chapeu)).dot((vetor_y -y_chapeu)))\n",
    "    return w, custo"
   ]
  },
  {
   "cell_type": "code",
   "execution_count": 18,
   "metadata": {},
   "outputs": [],
   "source": [
    "w, c= regressao_analitica(matrix_x, vetor_y)"
   ]
  },
  {
   "cell_type": "code",
   "execution_count": 19,
   "metadata": {},
   "outputs": [
    {
     "name": "stdout",
     "output_type": "stream",
     "text": [
      "[0.60889388 0.3075833 ]\n"
     ]
    }
   ],
   "source": [
    "print(w)"
   ]
  },
  {
   "cell_type": "code",
   "execution_count": 20,
   "metadata": {},
   "outputs": [
    {
     "name": "stdout",
     "output_type": "stream",
     "text": [
      "1.0478566570309578\n"
     ]
    }
   ],
   "source": [
    "print(c)"
   ]
  },
  {
   "cell_type": "code",
   "execution_count": 21,
   "metadata": {},
   "outputs": [],
   "source": [
    "def gradient_descent_multiclass(matrix_x, vetor_y, epocas, alfa):\n",
    "    matrix_x = np.insert(matrix_x, 0, 1, axis =1)\n",
    "    \n",
    "    size = (vector_y.shape[1], matrix_x.shape[1])\n",
    "    w_matrix = np.ones(size, dtype=float)\n",
    "\n",
    "    #mse = []\n",
    "    for k in range(w_matrix.shape[0]): \n",
    "        \n",
    "        y_chapeu = w_matrix[k].dot(np.transpose(matrix_x))\n",
    "        \n",
    "        for epocas in range(epocas):\n",
    "            somatorio = 0\n",
    "            for i in range(matrix_x.shape[0]):\n",
    "                somatorio += (vetor_y[i][k] - y_chapeu[i]) * matrix_x[i]\n",
    "\n",
    "            #mse.append((-1/matrix_x.shape[0]) * somatorio)\n",
    "            w_matrix[k] = w_matrix[k] + (alfa/matrix_x.shape[0])*somatorio\n",
    "            y_chapeu = w_matrix[k].dot(np.transpose(matrix_x))\n",
    "\n",
    "    return w_matrix, mse  \n",
    "    "
   ]
  },
  {
   "cell_type": "code",
   "execution_count": 22,
   "metadata": {},
   "outputs": [],
   "source": [
    "def gradiente_estocastico(matrix_x, vetor_y, epocas, alfa):\n",
    "   \n",
    "    matrix_x = np.insert(matrix_x, 0, 1, axis =1)\n",
    "\n",
    "    size = (vector_y.shape[1], matrix_x.shape[1])\n",
    "    w_matrix = np.ones(size, dtype=float)\n",
    "\n",
    "    data =np.append(matrix_x, vetor_y, axis=1)\n",
    "    mse = []\n",
    "\n",
    "    for k in range(w_matrix.shape[0]): \n",
    "        \n",
    "        y_chapeu = w_matrix[k].dot(np.transpose(matrix_x))\n",
    "\n",
    "        for epoca in range(epocas):\n",
    "            erro = 0\n",
    "            #somatorio = 0\n",
    "            for i in range(matrix_x.shape[0]):\n",
    "                w_matrix[k]  = w_matrix[k] + alfa * (vetor_y[i][k] - y_chapeu[i]) * matrix_x[i]\n",
    "                #somatorio += (vetor_y[i] - y_chapeu[i]) * matrix_x[i]\n",
    "\n",
    "            #mse.append((-1/matrix_x.shape[0]) * somatorio)        \n",
    "            data = np.random.permutation(data)\n",
    "            matrix_x = data[:,0:matrix_x.shape[1]]\n",
    "            vetor_y = data[:,matrix_x.shape[1]:]\n",
    "\n",
    "            y_chapeu = w_matrix[k].dot(np.transpose(matrix_x))\n",
    "    \n",
    "    return w_matrix, mse\n",
    "    "
   ]
  }
 ],
 "metadata": {
  "kernelspec": {
   "display_name": "Python 3",
   "language": "python",
   "name": "python3"
  },
  "language_info": {
   "codemirror_mode": {
    "name": "ipython",
    "version": 3
   },
   "file_extension": ".py",
   "mimetype": "text/x-python",
   "name": "python",
   "nbconvert_exporter": "python",
   "pygments_lexer": "ipython3",
   "version": "3.7.4"
  }
 },
 "nbformat": 4,
 "nbformat_minor": 2
}
